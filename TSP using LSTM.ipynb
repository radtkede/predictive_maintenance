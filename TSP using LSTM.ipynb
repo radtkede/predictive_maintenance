{
 "cells": [
  {
   "cell_type": "code",
   "execution_count": 84,
   "metadata": {},
   "outputs": [],
   "source": [
    "# Import modules and packages\n",
    "import numpy as np\n",
    "import pandas as pd\n",
    "import matplotlib.pyplot as plt\n",
    "import datetime as dt\n",
    "from datetime import datetime\n",
    "\n",
    "from keras.callbacks import EarlyStopping, ReduceLROnPlateau, ModelCheckpoint, TensorBoard\n",
    "\n",
    "%matplotlib inline"
   ]
  },
  {
   "cell_type": "code",
   "execution_count": 85,
   "metadata": {},
   "outputs": [],
   "source": [
    "dataset_train = pd.read_csv('/Users/dennis/kaggle/input/predictive_maintenance/pump_data.csv', sep=';', low_memory=False , decimal=',')"
   ]
  },
  {
   "cell_type": "code",
   "execution_count": 86,
   "metadata": {},
   "outputs": [
    {
     "data": {
      "text/html": [
       "<div>\n",
       "<style scoped>\n",
       "    .dataframe tbody tr th:only-of-type {\n",
       "        vertical-align: middle;\n",
       "    }\n",
       "\n",
       "    .dataframe tbody tr th {\n",
       "        vertical-align: top;\n",
       "    }\n",
       "\n",
       "    .dataframe thead th {\n",
       "        text-align: right;\n",
       "    }\n",
       "</style>\n",
       "<table border=\"1\" class=\"dataframe\">\n",
       "  <thead>\n",
       "    <tr style=\"text-align: right;\">\n",
       "      <th></th>\n",
       "      <th>Unnamed: 0</th>\n",
       "      <th>Date</th>\n",
       "      <th>03:I3SROE</th>\n",
       "      <th>03:T3362</th>\n",
       "      <th>03:PI3061A</th>\n",
       "      <th>03:PI3061B</th>\n",
       "      <th>03:PI3061C</th>\n",
       "      <th>03:PD3066</th>\n",
       "      <th>03:T3492</th>\n",
       "      <th>03:T3358</th>\n",
       "      <th>...</th>\n",
       "      <th>03:E3851</th>\n",
       "      <th>03:T3632</th>\n",
       "      <th>03:T3633</th>\n",
       "      <th>03:T3634</th>\n",
       "      <th>03:FC3195</th>\n",
       "      <th>03:FV3195</th>\n",
       "      <th>03:FC3197</th>\n",
       "      <th>03:FV3197</th>\n",
       "      <th>03:FC3199</th>\n",
       "      <th>03:FV3199</th>\n",
       "    </tr>\n",
       "  </thead>\n",
       "  <tbody>\n",
       "    <tr>\n",
       "      <th>0</th>\n",
       "      <td>0</td>\n",
       "      <td>01.01.19 00:00</td>\n",
       "      <td>890,187</td>\n",
       "      <td>77,923</td>\n",
       "      <td>3,025</td>\n",
       "      <td>3,043</td>\n",
       "      <td>3,055</td>\n",
       "      <td>No Data</td>\n",
       "      <td>40,456</td>\n",
       "      <td>97,602</td>\n",
       "      <td>...</td>\n",
       "      <td>0,156</td>\n",
       "      <td>16,62</td>\n",
       "      <td>16,661</td>\n",
       "      <td>13,997</td>\n",
       "      <td>358,322</td>\n",
       "      <td>100</td>\n",
       "      <td>362,52</td>\n",
       "      <td>100</td>\n",
       "      <td>392,51</td>\n",
       "      <td>100</td>\n",
       "    </tr>\n",
       "    <tr>\n",
       "      <th>1</th>\n",
       "      <td>1</td>\n",
       "      <td>01.01.19 00:10</td>\n",
       "      <td>890,262</td>\n",
       "      <td>77,893</td>\n",
       "      <td>3,024</td>\n",
       "      <td>3,043</td>\n",
       "      <td>3,053</td>\n",
       "      <td>No Data</td>\n",
       "      <td>40,415</td>\n",
       "      <td>97,178</td>\n",
       "      <td>...</td>\n",
       "      <td>0,157</td>\n",
       "      <td>16,675</td>\n",
       "      <td>16,676</td>\n",
       "      <td>13,985</td>\n",
       "      <td>358,897</td>\n",
       "      <td>100</td>\n",
       "      <td>362,505</td>\n",
       "      <td>100</td>\n",
       "      <td>393,009</td>\n",
       "      <td>100</td>\n",
       "    </tr>\n",
       "    <tr>\n",
       "      <th>2</th>\n",
       "      <td>2</td>\n",
       "      <td>01.01.19 00:20</td>\n",
       "      <td>890,337</td>\n",
       "      <td>77,863</td>\n",
       "      <td>3,024</td>\n",
       "      <td>3,043</td>\n",
       "      <td>3,051</td>\n",
       "      <td>No Data</td>\n",
       "      <td>40,375</td>\n",
       "      <td>97,215</td>\n",
       "      <td>...</td>\n",
       "      <td>0,158</td>\n",
       "      <td>16,711</td>\n",
       "      <td>16,726</td>\n",
       "      <td>14,02</td>\n",
       "      <td>358,984</td>\n",
       "      <td>100</td>\n",
       "      <td>362,305</td>\n",
       "      <td>100</td>\n",
       "      <td>392,767</td>\n",
       "      <td>100</td>\n",
       "    </tr>\n",
       "    <tr>\n",
       "      <th>3</th>\n",
       "      <td>3</td>\n",
       "      <td>01.01.19 00:30</td>\n",
       "      <td>890,294</td>\n",
       "      <td>77,833</td>\n",
       "      <td>3,023</td>\n",
       "      <td>3,043</td>\n",
       "      <td>3,051</td>\n",
       "      <td>No Data</td>\n",
       "      <td>40,41</td>\n",
       "      <td>97,602</td>\n",
       "      <td>...</td>\n",
       "      <td>0,159</td>\n",
       "      <td>16,716</td>\n",
       "      <td>16,784</td>\n",
       "      <td>14,035</td>\n",
       "      <td>362,205</td>\n",
       "      <td>100</td>\n",
       "      <td>361,171</td>\n",
       "      <td>100</td>\n",
       "      <td>391,512</td>\n",
       "      <td>100</td>\n",
       "    </tr>\n",
       "    <tr>\n",
       "      <th>4</th>\n",
       "      <td>4</td>\n",
       "      <td>01.01.19 00:40</td>\n",
       "      <td>890,239</td>\n",
       "      <td>77,823</td>\n",
       "      <td>3,023</td>\n",
       "      <td>3,043</td>\n",
       "      <td>3,052</td>\n",
       "      <td>No Data</td>\n",
       "      <td>40,41</td>\n",
       "      <td>97,438</td>\n",
       "      <td>...</td>\n",
       "      <td>0,16</td>\n",
       "      <td>16,75</td>\n",
       "      <td>16,815</td>\n",
       "      <td>14,065</td>\n",
       "      <td>361,954</td>\n",
       "      <td>100</td>\n",
       "      <td>360,852</td>\n",
       "      <td>100</td>\n",
       "      <td>390,736</td>\n",
       "      <td>100</td>\n",
       "    </tr>\n",
       "  </tbody>\n",
       "</table>\n",
       "<p>5 rows × 55 columns</p>\n",
       "</div>"
      ],
      "text/plain": [
       "   Unnamed: 0            Date 03:I3SROE 03:T3362 03:PI3061A 03:PI3061B  \\\n",
       "0           0  01.01.19 00:00   890,187   77,923      3,025      3,043   \n",
       "1           1  01.01.19 00:10   890,262   77,893      3,024      3,043   \n",
       "2           2  01.01.19 00:20   890,337   77,863      3,024      3,043   \n",
       "3           3  01.01.19 00:30   890,294   77,833      3,023      3,043   \n",
       "4           4  01.01.19 00:40   890,239   77,823      3,023      3,043   \n",
       "\n",
       "  03:PI3061C 03:PD3066 03:T3492 03:T3358  ... 03:E3851 03:T3632 03:T3633  \\\n",
       "0      3,055   No Data   40,456   97,602  ...    0,156    16,62   16,661   \n",
       "1      3,053   No Data   40,415   97,178  ...    0,157   16,675   16,676   \n",
       "2      3,051   No Data   40,375   97,215  ...    0,158   16,711   16,726   \n",
       "3      3,051   No Data    40,41   97,602  ...    0,159   16,716   16,784   \n",
       "4      3,052   No Data    40,41   97,438  ...     0,16    16,75   16,815   \n",
       "\n",
       "  03:T3634 03:FC3195 03:FV3195 03:FC3197 03:FV3197 03:FC3199 03:FV3199  \n",
       "0   13,997   358,322       100    362,52       100    392,51       100  \n",
       "1   13,985   358,897       100   362,505       100   393,009       100  \n",
       "2    14,02   358,984       100   362,305       100   392,767       100  \n",
       "3   14,035   362,205       100   361,171       100   391,512       100  \n",
       "4   14,065   361,954       100   360,852       100   390,736       100  \n",
       "\n",
       "[5 rows x 55 columns]"
      ]
     },
     "execution_count": 86,
     "metadata": {},
     "output_type": "execute_result"
    }
   ],
   "source": [
    "dataset_train.head()"
   ]
  },
  {
   "cell_type": "code",
   "execution_count": 87,
   "metadata": {},
   "outputs": [],
   "source": [
    "dataset_train = dataset_train.replace(to_replace='N_LAUF', value='0')\n",
    "dataset_train = dataset_train.replace(to_replace='LAUF', value='1')\n",
    "dataset_train = dataset_train.replace(to_replace='No Data', value='-1001')\n",
    "dataset_train = dataset_train.replace(to_replace='Over Range', value='-1002')\n",
    "dataset_train = dataset_train.replace(to_replace='I/O Timeout', value='-1003')\n",
    "dataset_train = dataset_train.replace(to_replace='Calc Failed', value='-1004')\n",
    "dataset_train = dataset_train.replace(to_replace='Error', value='-1005')\n",
    "dataset_train = dataset_train.replace(to_replace='Configure', value='-1006')\n",
    "dataset_train = dataset_train.replace(to_replace='Scan Off', value='-1007')\n",
    "dataset_train = dataset_train.replace(to_replace='Comm Fail', value='-1008')\n",
    "dataset_train = dataset_train.replace(to_replace='Shutdown', value='-1009')\n",
    "dataset_train = dataset_train.replace(to_replace='NaN', value='-1010')\n",
    "dataset_train = dataset_train.replace(to_replace='Bad Input', value='-1011')\n",
    "dataset_train = dataset_train.replace(to_replace='Bad', value='-1012')"
   ]
  },
  {
   "cell_type": "code",
   "execution_count": 88,
   "metadata": {},
   "outputs": [],
   "source": [
    "dataset_train = dataset_train.drop(['Unnamed: 0'], axis = 1)\n",
    "dataset_train = dataset_train.drop(['03:FV3195'], axis = 1)\n",
    "dataset_train = dataset_train.drop(['03:FV3197'], axis = 1)\n",
    "dataset_train = dataset_train.drop(['03:FV3199'], axis = 1)"
   ]
  },
  {
   "cell_type": "code",
   "execution_count": 89,
   "metadata": {},
   "outputs": [],
   "source": [
    "dataset_train = dataset_train[1:].replace(',','.', regex=True)"
   ]
  },
  {
   "cell_type": "code",
   "execution_count": 90,
   "metadata": {},
   "outputs": [],
   "source": [
    "for column in dataset_train[1:]:\n",
    "    dataset_train[column] = pd.to_numeric(dataset_train[column], errors='coerce')"
   ]
  },
  {
   "cell_type": "code",
   "execution_count": 91,
   "metadata": {},
   "outputs": [
    {
     "data": {
      "text/plain": [
       "0         1113.352\n",
       "1         1114.411\n",
       "2         1114.056\n",
       "3         1114.888\n",
       "4         1113.542\n",
       "            ...   \n",
       "574000     932.979\n",
       "574001     933.390\n",
       "574002     933.553\n",
       "574003     932.625\n",
       "574004     944.560\n",
       "Name: Durchsatz, Length: 574005, dtype: float64"
      ]
     },
     "execution_count": 91,
     "metadata": {},
     "output_type": "execute_result"
    }
   ],
   "source": [
    "dataset_train['Durchsatz'] = dataset_train['03:FC3195'] + dataset_train['03:FC3197'] + dataset_train['03:FC3199']\n",
    "dataset_train['Durchsatz']"
   ]
  },
  {
   "cell_type": "code",
   "execution_count": 92,
   "metadata": {},
   "outputs": [
    {
     "data": {
      "text/plain": [
       "['03:I3SROE',\n",
       " '03:T3362',\n",
       " '03:PI3061A',\n",
       " '03:PI3061B',\n",
       " '03:PI3061C',\n",
       " '03:PD3066',\n",
       " '03:T3492',\n",
       " '03:T3358',\n",
       " '03:TC3550',\n",
       " '03:TC3550A',\n",
       " '03:FV3762',\n",
       " '03:FC3762',\n",
       " '03:TC3730',\n",
       " '03:TV3730A',\n",
       " '03:TV3730B',\n",
       " '03:TV3730C',\n",
       " '03:T3731',\n",
       " '03:P3649',\n",
       " '03:P3065',\n",
       " '03:LC3661',\n",
       " '03:LI3661A',\n",
       " '03:LI3661B',\n",
       " '03:LI3661C',\n",
       " '03:YV4978',\n",
       " '03:FC3075.OP',\n",
       " '03:FC3075',\n",
       " '03:T3361',\n",
       " '03:T3359',\n",
       " '03:T3360',\n",
       " '03:N3722_1',\n",
       " '03:N3721_1',\n",
       " '03:N3725_1',\n",
       " '03:E3849',\n",
       " '03:T3626',\n",
       " '03:T3627',\n",
       " '03:T3628',\n",
       " '03:N3726_1',\n",
       " '03:E3850',\n",
       " '03:T3629',\n",
       " '03:T3630',\n",
       " '03:T3631',\n",
       " '03:N3723_1',\n",
       " '03:N3727_1',\n",
       " '03:E3851',\n",
       " '03:T3632',\n",
       " '03:T3633',\n",
       " '03:T3634',\n",
       " '03:FC3195',\n",
       " '03:FC3197',\n",
       " '03:FC3199',\n",
       " 'Durchsatz']"
      ]
     },
     "execution_count": 92,
     "metadata": {},
     "output_type": "execute_result"
    }
   ],
   "source": [
    "# Select features (columns) to be involved intro training and predictions\n",
    "cols = list(dataset_train)[1:]\n",
    "\n",
    "cols"
   ]
  },
  {
   "cell_type": "code",
   "execution_count": 93,
   "metadata": {},
   "outputs": [
    {
     "data": {
      "text/plain": [
       "Date            float64\n",
       "03:I3SROE       float64\n",
       "03:T3362        float64\n",
       "03:PI3061A      float64\n",
       "03:PI3061B      float64\n",
       "03:PI3061C      float64\n",
       "03:PD3066       float64\n",
       "03:T3492        float64\n",
       "03:T3358        float64\n",
       "03:TC3550       float64\n",
       "03:TC3550A      float64\n",
       "03:FV3762       float64\n",
       "03:FC3762       float64\n",
       "03:TC3730       float64\n",
       "03:TV3730A      float64\n",
       "03:TV3730B      float64\n",
       "03:TV3730C      float64\n",
       "03:T3731        float64\n",
       "03:P3649        float64\n",
       "03:P3065        float64\n",
       "03:LC3661       float64\n",
       "03:LI3661A      float64\n",
       "03:LI3661B      float64\n",
       "03:LI3661C      float64\n",
       "03:YV4978       float64\n",
       "03:FC3075.OP    float64\n",
       "03:FC3075       float64\n",
       "03:T3361        float64\n",
       "03:T3359        float64\n",
       "03:T3360        float64\n",
       "03:N3722_1      float64\n",
       "03:N3721_1      float64\n",
       "03:N3725_1      float64\n",
       "03:E3849        float64\n",
       "03:T3626        float64\n",
       "03:T3627        float64\n",
       "03:T3628        float64\n",
       "03:N3726_1      float64\n",
       "03:E3850        float64\n",
       "03:T3629        float64\n",
       "03:T3630        float64\n",
       "03:T3631        float64\n",
       "03:N3723_1      float64\n",
       "03:N3727_1      float64\n",
       "03:E3851        float64\n",
       "03:T3632        float64\n",
       "03:T3633        float64\n",
       "03:T3634        float64\n",
       "03:FC3195       float64\n",
       "03:FC3197       float64\n",
       "03:FC3199       float64\n",
       "Durchsatz       float64\n",
       "dtype: object"
      ]
     },
     "execution_count": 93,
     "metadata": {},
     "output_type": "execute_result"
    }
   ],
   "source": [
    "dataset_train.dtypes"
   ]
  },
  {
   "cell_type": "code",
   "execution_count": null,
   "metadata": {},
   "outputs": [],
   "source": []
  },
  {
   "cell_type": "code",
   "execution_count": null,
   "metadata": {},
   "outputs": [],
   "source": []
  },
  {
   "cell_type": "code",
   "execution_count": null,
   "metadata": {},
   "outputs": [],
   "source": []
  },
  {
   "cell_type": "code",
   "execution_count": 94,
   "metadata": {},
   "outputs": [
    {
     "name": "stdout",
     "output_type": "stream",
     "text": [
      "Training set shape == (574005, 52)\n",
      "All timestamps == 574005\n",
      "Featured selected: ['03:I3SROE', '03:T3362', '03:PI3061A', '03:PI3061B', '03:PI3061C', '03:PD3066', '03:T3492', '03:T3358', '03:TC3550', '03:TC3550A', '03:FV3762', '03:FC3762', '03:TC3730', '03:TV3730A', '03:TV3730B', '03:TV3730C', '03:T3731', '03:P3649', '03:P3065', '03:LC3661', '03:LI3661A', '03:LI3661B', '03:LI3661C', '03:YV4978', '03:FC3075.OP', '03:FC3075', '03:T3361', '03:T3359', '03:T3360', '03:N3722_1', '03:N3721_1', '03:N3725_1', '03:E3849', '03:T3626', '03:T3627', '03:T3628', '03:N3726_1', '03:E3850', '03:T3629', '03:T3630', '03:T3631', '03:N3723_1', '03:N3727_1', '03:E3851', '03:T3632', '03:T3633', '03:T3634', '03:FC3195', '03:FC3197', '03:FC3199', 'Durchsatz']\n"
     ]
    }
   ],
   "source": [
    "# Extract dates (will be used in visualization)\n",
    "datelist_train = list(dataset_train['Date'])\n",
    "print('Training set shape == {}'.format(dataset_train.shape))\n",
    "print('All timestamps == {}'.format(len(datelist_train)))\n",
    "print('Featured selected: {}'.format(cols))"
   ]
  },
  {
   "cell_type": "code",
   "execution_count": null,
   "metadata": {},
   "outputs": [],
   "source": []
  },
  {
   "cell_type": "code",
   "execution_count": 98,
   "metadata": {},
   "outputs": [],
   "source": [
    "# Using multiple features (predictors)\n",
    "#training_set = dataset_train.as_matrix(columns = cols)\n",
    "training_set = np.array(dataset_train[cols])"
   ]
  },
  {
   "cell_type": "code",
   "execution_count": 99,
   "metadata": {},
   "outputs": [
    {
     "name": "stdout",
     "output_type": "stream",
     "text": [
      "Shape of training set == (574005, 51).\n"
     ]
    },
    {
     "data": {
      "text/plain": [
       "array([[ 890.187,   77.923,    3.025, ...,  362.52 ,  392.51 , 1113.352],\n",
       "       [ 890.262,   77.893,    3.024, ...,  362.505,  393.009, 1114.411],\n",
       "       [ 890.337,   77.863,    3.024, ...,  362.305,  392.767, 1114.056],\n",
       "       ...,\n",
       "       [ 750.08 ,   73.618,    2.696, ...,  300.264,  333.121,  933.553],\n",
       "       [ 751.267,   73.667,    2.699, ...,  299.913,  332.373,  932.625],\n",
       "       [ 755.64 ,   73.563,    2.701, ...,  305.107,  338.502,  944.56 ]])"
      ]
     },
     "execution_count": 99,
     "metadata": {},
     "output_type": "execute_result"
    }
   ],
   "source": [
    "print('Shape of training set == {}.'.format(training_set.shape))\n",
    "training_set"
   ]
  },
  {
   "cell_type": "code",
   "execution_count": 104,
   "metadata": {},
   "outputs": [
    {
     "name": "stderr",
     "output_type": "stream",
     "text": [
      "/Library/Frameworks/Python.framework/Versions/3.7/lib/python3.7/site-packages/sklearn/utils/extmath.py:765: RuntimeWarning: invalid value encountered in true_divide\n",
      "  updated_mean = (last_sum + new_sum) / updated_sample_count\n",
      "/Library/Frameworks/Python.framework/Versions/3.7/lib/python3.7/site-packages/sklearn/utils/extmath.py:706: RuntimeWarning: Degrees of freedom <= 0 for slice.\n",
      "  result = op(x, *args, **kwargs)\n"
     ]
    },
    {
     "data": {
      "text/plain": [
       "array([[ 0.14994906],\n",
       "       [ 0.15041378],\n",
       "       [ 0.15087849],\n",
       "       ...,\n",
       "       [-0.71817884],\n",
       "       [-0.71082398],\n",
       "       [-0.68372809]])"
      ]
     },
     "execution_count": 104,
     "metadata": {},
     "output_type": "execute_result"
    }
   ],
   "source": [
    "# Feature Scaling\n",
    "from sklearn.preprocessing import StandardScaler\n",
    "\n",
    "sc = StandardScaler()\n",
    "training_set_scaled = sc.fit_transform(training_set)\n",
    "\n",
    "sc_predict = StandardScaler()\n",
    "sc_predict.fit_transform(training_set[:, 0:1])"
   ]
  },
  {
   "cell_type": "code",
   "execution_count": 107,
   "metadata": {},
   "outputs": [
    {
     "data": {
      "text/plain": [
       "(574005, 51)"
      ]
     },
     "execution_count": 107,
     "metadata": {},
     "output_type": "execute_result"
    }
   ],
   "source": [
    "training_set_scaled.shape"
   ]
  },
  {
   "cell_type": "code",
   "execution_count": 114,
   "metadata": {
    "scrolled": true
   },
   "outputs": [
    {
     "data": {
      "text/plain": [
       "['03:I3SROE',\n",
       " '03:T3362',\n",
       " '03:PI3061A',\n",
       " '03:PI3061B',\n",
       " '03:PI3061C',\n",
       " '03:PD3066',\n",
       " '03:T3492',\n",
       " '03:T3358',\n",
       " '03:TC3550',\n",
       " '03:TC3550A',\n",
       " '03:FV3762',\n",
       " '03:FC3762',\n",
       " '03:TC3730',\n",
       " '03:TV3730A',\n",
       " '03:TV3730B',\n",
       " '03:TV3730C',\n",
       " '03:T3731',\n",
       " '03:P3649',\n",
       " '03:P3065',\n",
       " '03:LC3661',\n",
       " '03:LI3661A',\n",
       " '03:LI3661B',\n",
       " '03:LI3661C',\n",
       " '03:YV4978',\n",
       " '03:FC3075.OP',\n",
       " '03:FC3075',\n",
       " '03:T3361',\n",
       " '03:T3359',\n",
       " '03:T3360',\n",
       " '03:N3722_1',\n",
       " '03:N3721_1',\n",
       " '03:N3725_1',\n",
       " '03:E3849',\n",
       " '03:T3626',\n",
       " '03:T3627',\n",
       " '03:T3628',\n",
       " '03:N3726_1',\n",
       " '03:E3850',\n",
       " '03:T3629',\n",
       " '03:T3630',\n",
       " '03:T3631',\n",
       " '03:N3723_1',\n",
       " '03:N3727_1',\n",
       " '03:E3851',\n",
       " '03:T3632',\n",
       " '03:T3633',\n",
       " '03:T3634',\n",
       " '03:FC3195',\n",
       " '03:FC3197',\n",
       " '03:FC3199',\n",
       " 'Durchsatz']"
      ]
     },
     "execution_count": 114,
     "metadata": {},
     "output_type": "execute_result"
    }
   ],
   "source": [
    "cols"
   ]
  },
  {
   "cell_type": "code",
   "execution_count": 136,
   "metadata": {},
   "outputs": [
    {
     "name": "stdout",
     "output_type": "stream",
     "text": [
      "384583 189422\n"
     ]
    },
    {
     "data": {
      "text/plain": [
       "(384583, 51)"
      ]
     },
     "execution_count": 136,
     "metadata": {},
     "output_type": "execute_result"
    }
   ],
   "source": [
    "train_size = int(len(training_set_scaled) * 0.67)\n",
    "test_size = len(training_set_scaled) - train_size\n",
    "train, test = training_set_scaled[0:train_size,:], training_set_scaled[train_size:len(training_set_scaled),:]\n",
    "print(len(train), len(test))\n",
    "\n",
    "train.shape"
   ]
  },
  {
   "cell_type": "code",
   "execution_count": 129,
   "metadata": {},
   "outputs": [],
   "source": [
    "def create_dataset(dataset, look_back=1):\n",
    "\tdataX, dataY = [], []\n",
    "\tfor i in range(len(dataset)-look_back-1):\n",
    "\t\ta = dataset[i:(i+look_back), 0]\n",
    "\t\tdataX.append(a)\n",
    "\t\tdataY.append(dataset[i + look_back, 0])\n",
    "\treturn np.array(dataX), np.array(dataY)"
   ]
  },
  {
   "cell_type": "code",
   "execution_count": 135,
   "metadata": {},
   "outputs": [
    {
     "data": {
      "text/plain": [
       "(384581, 1)"
      ]
     },
     "execution_count": 135,
     "metadata": {},
     "output_type": "execute_result"
    }
   ],
   "source": [
    "look_back = 1\n",
    "trainX, trainY = create_dataset(train, look_back)\n",
    "testX, testY = create_dataset(test, look_back)\n",
    "trainX.shape"
   ]
  },
  {
   "cell_type": "code",
   "execution_count": 132,
   "metadata": {},
   "outputs": [],
   "source": [
    "trainX = np.reshape(trainX, (trainX.shape[0], 1, trainX.shape[1]))\n",
    "testX = np.reshape(testX, (testX.shape[0], 1, testX.shape[1]))"
   ]
  },
  {
   "cell_type": "code",
   "execution_count": 138,
   "metadata": {},
   "outputs": [
    {
     "data": {
      "text/plain": [
       "(189420, 1)"
      ]
     },
     "execution_count": 138,
     "metadata": {},
     "output_type": "execute_result"
    }
   ],
   "source": [
    "trainX.shape\n",
    "testX.shape"
   ]
  },
  {
   "cell_type": "code",
   "execution_count": 146,
   "metadata": {},
   "outputs": [
    {
     "ename": "TypeError",
     "evalue": "_vhstack_dispatcher() takes 1 positional argument but 3 were given",
     "output_type": "error",
     "traceback": [
      "\u001b[0;31m---------------------------------------------------------------------------\u001b[0m",
      "\u001b[0;31mTypeError\u001b[0m                                 Traceback (most recent call last)",
      "\u001b[0;32m<ipython-input-146-a50d324e28b7>\u001b[0m in \u001b[0;36m<module>\u001b[0;34m\u001b[0m\n\u001b[1;32m      1\u001b[0m \u001b[0;32mfrom\u001b[0m \u001b[0mnumpy\u001b[0m \u001b[0;32mimport\u001b[0m \u001b[0mhstack\u001b[0m\u001b[0;34m\u001b[0m\u001b[0;34m\u001b[0m\u001b[0m\n\u001b[0;32m----> 2\u001b[0;31m \u001b[0mdataset\u001b[0m \u001b[0;34m=\u001b[0m \u001b[0mhstack\u001b[0m\u001b[0;34m(\u001b[0m\u001b[0;34m'03:I3SROE'\u001b[0m\u001b[0;34m,\u001b[0m\u001b[0;34m'03:T3362'\u001b[0m\u001b[0;34m,\u001b[0m\u001b[0;34m'03:PI3061A'\u001b[0m\u001b[0;34m)\u001b[0m\u001b[0;34m\u001b[0m\u001b[0;34m\u001b[0m\u001b[0m\n\u001b[0m",
      "\u001b[0;32m<__array_function__ internals>\u001b[0m in \u001b[0;36mhstack\u001b[0;34m(*args, **kwargs)\u001b[0m\n",
      "\u001b[0;31mTypeError\u001b[0m: _vhstack_dispatcher() takes 1 positional argument but 3 were given"
     ]
    }
   ],
   "source": [
    "from numpy import hstack\n",
    "dataset = hstack('03:I3SROE','03:T3362','03:PI3061A')"
   ]
  },
  {
   "cell_type": "code",
   "execution_count": 145,
   "metadata": {},
   "outputs": [
    {
     "name": "stdout",
     "output_type": "stream",
     "text": [
      "['03:I3SROE' '03:T3362' '03:PI3061A' '03:PI3061B' '03:PI3061C' '03:PD3066'\n",
      " '03:T3492' '03:T3358' '03:TC3550' '03:TC3550A' '03:FV3762' '03:FC3762'\n",
      " '03:TC3730' '03:TV3730A' '03:TV3730B' '03:TV3730C' '03:T3731' '03:P3649'\n",
      " '03:P3065' '03:LC3661' '03:LI3661A' '03:LI3661B' '03:LI3661C' '03:YV4978'\n",
      " '03:FC3075.OP' '03:FC3075' '03:T3361' '03:T3359' '03:T3360' '03:N3722_1'\n",
      " '03:N3721_1' '03:N3725_1' '03:E3849' '03:T3626' '03:T3627' '03:T3628'\n",
      " '03:N3726_1' '03:E3850' '03:T3629' '03:T3630' '03:T3631' '03:N3723_1'\n",
      " '03:N3727_1' '03:E3851' '03:T3632' '03:T3633' '03:T3634' '03:FC3195'\n",
      " '03:FC3197' '03:FC3199' 'Durchsatz']\n"
     ]
    }
   ],
   "source": [
    "print(dataset)"
   ]
  },
  {
   "cell_type": "code",
   "execution_count": 142,
   "metadata": {},
   "outputs": [],
   "source": [
    "\n",
    "# split a multivariate sequence into samples\n",
    "def split_sequences(sequences, n_steps):\n",
    "\tX, y = list(), list()\n",
    "\tfor i in range(len(sequences)):\n",
    "\t\t# find the end of this pattern\n",
    "\t\tend_ix = i + n_steps\n",
    "\t\t# check if we are beyond the dataset\n",
    "\t\tif end_ix > len(sequences):\n",
    "\t\t\tbreak\n",
    "\t\t# gather input and output parts of the pattern\n",
    "\t\tseq_x, seq_y = sequences[i:end_ix, :-1], sequences[end_ix-1, -1]\n",
    "\t\tX.append(seq_x)\n",
    "\t\ty.append(seq_y)\n",
    "\treturn array(X), array(y)"
   ]
  },
  {
   "cell_type": "code",
   "execution_count": 144,
   "metadata": {},
   "outputs": [
    {
     "ename": "IndexError",
     "evalue": "too many indices for array",
     "output_type": "error",
     "traceback": [
      "\u001b[0;31m---------------------------------------------------------------------------\u001b[0m",
      "\u001b[0;31mIndexError\u001b[0m                                Traceback (most recent call last)",
      "\u001b[0;32m<ipython-input-144-eb86dfde1515>\u001b[0m in \u001b[0;36m<module>\u001b[0;34m\u001b[0m\n\u001b[1;32m      1\u001b[0m \u001b[0mn_steps\u001b[0m \u001b[0;34m=\u001b[0m \u001b[0;36m3\u001b[0m\u001b[0;34m\u001b[0m\u001b[0;34m\u001b[0m\u001b[0m\n\u001b[1;32m      2\u001b[0m \u001b[0;31m# convert into input/output\u001b[0m\u001b[0;34m\u001b[0m\u001b[0;34m\u001b[0m\u001b[0;34m\u001b[0m\u001b[0m\n\u001b[0;32m----> 3\u001b[0;31m \u001b[0mX\u001b[0m\u001b[0;34m,\u001b[0m \u001b[0my\u001b[0m \u001b[0;34m=\u001b[0m \u001b[0msplit_sequences\u001b[0m\u001b[0;34m(\u001b[0m\u001b[0mdataset\u001b[0m\u001b[0;34m,\u001b[0m \u001b[0mn_steps\u001b[0m\u001b[0;34m)\u001b[0m\u001b[0;34m\u001b[0m\u001b[0;34m\u001b[0m\u001b[0m\n\u001b[0m\u001b[1;32m      4\u001b[0m \u001b[0mprint\u001b[0m\u001b[0;34m(\u001b[0m\u001b[0mX\u001b[0m\u001b[0;34m.\u001b[0m\u001b[0mshape\u001b[0m\u001b[0;34m,\u001b[0m \u001b[0my\u001b[0m\u001b[0;34m.\u001b[0m\u001b[0mshape\u001b[0m\u001b[0;34m)\u001b[0m\u001b[0;34m\u001b[0m\u001b[0;34m\u001b[0m\u001b[0m\n\u001b[1;32m      5\u001b[0m \u001b[0;31m# summarize the data\u001b[0m\u001b[0;34m\u001b[0m\u001b[0;34m\u001b[0m\u001b[0;34m\u001b[0m\u001b[0m\n",
      "\u001b[0;32m<ipython-input-142-10edbc752a56>\u001b[0m in \u001b[0;36msplit_sequences\u001b[0;34m(sequences, n_steps)\u001b[0m\n\u001b[1;32m      9\u001b[0m                         \u001b[0;32mbreak\u001b[0m\u001b[0;34m\u001b[0m\u001b[0;34m\u001b[0m\u001b[0m\n\u001b[1;32m     10\u001b[0m                 \u001b[0;31m# gather input and output parts of the pattern\u001b[0m\u001b[0;34m\u001b[0m\u001b[0;34m\u001b[0m\u001b[0;34m\u001b[0m\u001b[0m\n\u001b[0;32m---> 11\u001b[0;31m                 \u001b[0mseq_x\u001b[0m\u001b[0;34m,\u001b[0m \u001b[0mseq_y\u001b[0m \u001b[0;34m=\u001b[0m \u001b[0msequences\u001b[0m\u001b[0;34m[\u001b[0m\u001b[0mi\u001b[0m\u001b[0;34m:\u001b[0m\u001b[0mend_ix\u001b[0m\u001b[0;34m,\u001b[0m \u001b[0;34m:\u001b[0m\u001b[0;34m-\u001b[0m\u001b[0;36m1\u001b[0m\u001b[0;34m]\u001b[0m\u001b[0;34m,\u001b[0m \u001b[0msequences\u001b[0m\u001b[0;34m[\u001b[0m\u001b[0mend_ix\u001b[0m\u001b[0;34m-\u001b[0m\u001b[0;36m1\u001b[0m\u001b[0;34m,\u001b[0m \u001b[0;34m-\u001b[0m\u001b[0;36m1\u001b[0m\u001b[0;34m]\u001b[0m\u001b[0;34m\u001b[0m\u001b[0;34m\u001b[0m\u001b[0m\n\u001b[0m\u001b[1;32m     12\u001b[0m                 \u001b[0mX\u001b[0m\u001b[0;34m.\u001b[0m\u001b[0mappend\u001b[0m\u001b[0;34m(\u001b[0m\u001b[0mseq_x\u001b[0m\u001b[0;34m)\u001b[0m\u001b[0;34m\u001b[0m\u001b[0;34m\u001b[0m\u001b[0m\n\u001b[1;32m     13\u001b[0m                 \u001b[0my\u001b[0m\u001b[0;34m.\u001b[0m\u001b[0mappend\u001b[0m\u001b[0;34m(\u001b[0m\u001b[0mseq_y\u001b[0m\u001b[0;34m)\u001b[0m\u001b[0;34m\u001b[0m\u001b[0;34m\u001b[0m\u001b[0m\n",
      "\u001b[0;31mIndexError\u001b[0m: too many indices for array"
     ]
    }
   ],
   "source": [
    "n_steps = 3\n",
    "# convert into input/output\n",
    "X, y = split_sequences(dataset, n_steps)\n",
    "print(X.shape, y.shape)\n",
    "# summarize the data\n",
    "for i in range(len(X)):\n",
    "\tprint(X[i], y[i])"
   ]
  },
  {
   "cell_type": "code",
   "execution_count": null,
   "metadata": {},
   "outputs": [],
   "source": []
  }
 ],
 "metadata": {
  "kernelspec": {
   "display_name": "Python 3",
   "language": "python",
   "name": "python3"
  },
  "language_info": {
   "codemirror_mode": {
    "name": "ipython",
    "version": 3
   },
   "file_extension": ".py",
   "mimetype": "text/x-python",
   "name": "python",
   "nbconvert_exporter": "python",
   "pygments_lexer": "ipython3",
   "version": "3.7.6"
  }
 },
 "nbformat": 4,
 "nbformat_minor": 4
}
