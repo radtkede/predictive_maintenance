{
 "cells": [
  {
   "cell_type": "code",
   "execution_count": 132,
   "metadata": {},
   "outputs": [],
   "source": [
    "# Import modules and packages\n",
    "import numpy as np\n",
    "import pandas as pd\n",
    "import matplotlib.pyplot as plt\n",
    "import datetime as dt\n",
    "from datetime import datetime\n",
    "\n",
    "from keras.callbacks import EarlyStopping, ReduceLROnPlateau, ModelCheckpoint, TensorBoard\n",
    "\n",
    "%matplotlib inline"
   ]
  },
  {
   "cell_type": "code",
   "execution_count": 133,
   "metadata": {},
   "outputs": [],
   "source": [
    "dataset_train = pd.read_csv('C:/Users/Megaport/JNotebooks/data/pump_data.csv', sep=';', low_memory=False , decimal=',')"
   ]
  },
  {
   "cell_type": "code",
   "execution_count": 134,
   "metadata": {},
   "outputs": [
    {
     "data": {
      "text/html": [
       "<div>\n",
       "<style scoped>\n",
       "    .dataframe tbody tr th:only-of-type {\n",
       "        vertical-align: middle;\n",
       "    }\n",
       "\n",
       "    .dataframe tbody tr th {\n",
       "        vertical-align: top;\n",
       "    }\n",
       "\n",
       "    .dataframe thead th {\n",
       "        text-align: right;\n",
       "    }\n",
       "</style>\n",
       "<table border=\"1\" class=\"dataframe\">\n",
       "  <thead>\n",
       "    <tr style=\"text-align: right;\">\n",
       "      <th></th>\n",
       "      <th>Unnamed: 0</th>\n",
       "      <th>Date</th>\n",
       "      <th>03:I3SROE</th>\n",
       "      <th>03:T3362</th>\n",
       "      <th>03:PI3061A</th>\n",
       "      <th>03:PI3061B</th>\n",
       "      <th>03:PI3061C</th>\n",
       "      <th>03:PD3066</th>\n",
       "      <th>03:T3492</th>\n",
       "      <th>03:T3358</th>\n",
       "      <th>...</th>\n",
       "      <th>03:E3851</th>\n",
       "      <th>03:T3632</th>\n",
       "      <th>03:T3633</th>\n",
       "      <th>03:T3634</th>\n",
       "      <th>03:FC3195</th>\n",
       "      <th>03:FV3195</th>\n",
       "      <th>03:FC3197</th>\n",
       "      <th>03:FV3197</th>\n",
       "      <th>03:FC3199</th>\n",
       "      <th>03:FV3199</th>\n",
       "    </tr>\n",
       "  </thead>\n",
       "  <tbody>\n",
       "    <tr>\n",
       "      <th>0</th>\n",
       "      <td>0</td>\n",
       "      <td>01.01.19 00:00</td>\n",
       "      <td>890,187</td>\n",
       "      <td>77,923</td>\n",
       "      <td>3,025</td>\n",
       "      <td>3,043</td>\n",
       "      <td>3,055</td>\n",
       "      <td>No Data</td>\n",
       "      <td>40,456</td>\n",
       "      <td>97,602</td>\n",
       "      <td>...</td>\n",
       "      <td>0,156</td>\n",
       "      <td>16,62</td>\n",
       "      <td>16,661</td>\n",
       "      <td>13,997</td>\n",
       "      <td>358,322</td>\n",
       "      <td>100</td>\n",
       "      <td>362,52</td>\n",
       "      <td>100</td>\n",
       "      <td>392,51</td>\n",
       "      <td>100</td>\n",
       "    </tr>\n",
       "    <tr>\n",
       "      <th>1</th>\n",
       "      <td>1</td>\n",
       "      <td>01.01.19 00:10</td>\n",
       "      <td>890,262</td>\n",
       "      <td>77,893</td>\n",
       "      <td>3,024</td>\n",
       "      <td>3,043</td>\n",
       "      <td>3,053</td>\n",
       "      <td>No Data</td>\n",
       "      <td>40,415</td>\n",
       "      <td>97,178</td>\n",
       "      <td>...</td>\n",
       "      <td>0,157</td>\n",
       "      <td>16,675</td>\n",
       "      <td>16,676</td>\n",
       "      <td>13,985</td>\n",
       "      <td>358,897</td>\n",
       "      <td>100</td>\n",
       "      <td>362,505</td>\n",
       "      <td>100</td>\n",
       "      <td>393,009</td>\n",
       "      <td>100</td>\n",
       "    </tr>\n",
       "    <tr>\n",
       "      <th>2</th>\n",
       "      <td>2</td>\n",
       "      <td>01.01.19 00:20</td>\n",
       "      <td>890,337</td>\n",
       "      <td>77,863</td>\n",
       "      <td>3,024</td>\n",
       "      <td>3,043</td>\n",
       "      <td>3,051</td>\n",
       "      <td>No Data</td>\n",
       "      <td>40,375</td>\n",
       "      <td>97,215</td>\n",
       "      <td>...</td>\n",
       "      <td>0,158</td>\n",
       "      <td>16,711</td>\n",
       "      <td>16,726</td>\n",
       "      <td>14,02</td>\n",
       "      <td>358,984</td>\n",
       "      <td>100</td>\n",
       "      <td>362,305</td>\n",
       "      <td>100</td>\n",
       "      <td>392,767</td>\n",
       "      <td>100</td>\n",
       "    </tr>\n",
       "    <tr>\n",
       "      <th>3</th>\n",
       "      <td>3</td>\n",
       "      <td>01.01.19 00:30</td>\n",
       "      <td>890,294</td>\n",
       "      <td>77,833</td>\n",
       "      <td>3,023</td>\n",
       "      <td>3,043</td>\n",
       "      <td>3,051</td>\n",
       "      <td>No Data</td>\n",
       "      <td>40,41</td>\n",
       "      <td>97,602</td>\n",
       "      <td>...</td>\n",
       "      <td>0,159</td>\n",
       "      <td>16,716</td>\n",
       "      <td>16,784</td>\n",
       "      <td>14,035</td>\n",
       "      <td>362,205</td>\n",
       "      <td>100</td>\n",
       "      <td>361,171</td>\n",
       "      <td>100</td>\n",
       "      <td>391,512</td>\n",
       "      <td>100</td>\n",
       "    </tr>\n",
       "    <tr>\n",
       "      <th>4</th>\n",
       "      <td>4</td>\n",
       "      <td>01.01.19 00:40</td>\n",
       "      <td>890,239</td>\n",
       "      <td>77,823</td>\n",
       "      <td>3,023</td>\n",
       "      <td>3,043</td>\n",
       "      <td>3,052</td>\n",
       "      <td>No Data</td>\n",
       "      <td>40,41</td>\n",
       "      <td>97,438</td>\n",
       "      <td>...</td>\n",
       "      <td>0,16</td>\n",
       "      <td>16,75</td>\n",
       "      <td>16,815</td>\n",
       "      <td>14,065</td>\n",
       "      <td>361,954</td>\n",
       "      <td>100</td>\n",
       "      <td>360,852</td>\n",
       "      <td>100</td>\n",
       "      <td>390,736</td>\n",
       "      <td>100</td>\n",
       "    </tr>\n",
       "  </tbody>\n",
       "</table>\n",
       "<p>5 rows × 55 columns</p>\n",
       "</div>"
      ],
      "text/plain": [
       "   Unnamed: 0            Date 03:I3SROE 03:T3362 03:PI3061A 03:PI3061B  \\\n",
       "0           0  01.01.19 00:00   890,187   77,923      3,025      3,043   \n",
       "1           1  01.01.19 00:10   890,262   77,893      3,024      3,043   \n",
       "2           2  01.01.19 00:20   890,337   77,863      3,024      3,043   \n",
       "3           3  01.01.19 00:30   890,294   77,833      3,023      3,043   \n",
       "4           4  01.01.19 00:40   890,239   77,823      3,023      3,043   \n",
       "\n",
       "  03:PI3061C 03:PD3066 03:T3492 03:T3358  ... 03:E3851 03:T3632 03:T3633  \\\n",
       "0      3,055   No Data   40,456   97,602  ...    0,156    16,62   16,661   \n",
       "1      3,053   No Data   40,415   97,178  ...    0,157   16,675   16,676   \n",
       "2      3,051   No Data   40,375   97,215  ...    0,158   16,711   16,726   \n",
       "3      3,051   No Data    40,41   97,602  ...    0,159   16,716   16,784   \n",
       "4      3,052   No Data    40,41   97,438  ...     0,16    16,75   16,815   \n",
       "\n",
       "  03:T3634 03:FC3195 03:FV3195 03:FC3197 03:FV3197 03:FC3199 03:FV3199  \n",
       "0   13,997   358,322       100    362,52       100    392,51       100  \n",
       "1   13,985   358,897       100   362,505       100   393,009       100  \n",
       "2    14,02   358,984       100   362,305       100   392,767       100  \n",
       "3   14,035   362,205       100   361,171       100   391,512       100  \n",
       "4   14,065   361,954       100   360,852       100   390,736       100  \n",
       "\n",
       "[5 rows x 55 columns]"
      ]
     },
     "execution_count": 134,
     "metadata": {},
     "output_type": "execute_result"
    }
   ],
   "source": [
    "dataset_train.head()"
   ]
  },
  {
   "cell_type": "code",
   "execution_count": null,
   "metadata": {},
   "outputs": [],
   "source": []
  },
  {
   "cell_type": "code",
   "execution_count": 135,
   "metadata": {},
   "outputs": [],
   "source": [
    "dataset_train = dataset_train.replace(to_replace='N_LAUF', value='0')\n",
    "dataset_train = dataset_train.replace(to_replace='LAUF', value='1')\n",
    "dataset_train = dataset_train.replace(to_replace='No Data', value='-1001')\n",
    "dataset_train = dataset_train.replace(to_replace='Over Range', value='-1002')\n",
    "dataset_train = dataset_train.replace(to_replace='I/O Timeout', value='-1003')\n",
    "dataset_train = dataset_train.replace(to_replace='Calc Failed', value='-1004')\n",
    "dataset_train = dataset_train.replace(to_replace='Error', value='-1005')\n",
    "dataset_train = dataset_train.replace(to_replace='Configure', value='-1006')\n",
    "dataset_train = dataset_train.replace(to_replace='Scan Off', value='-1007')\n",
    "dataset_train = dataset_train.replace(to_replace='Comm Fail', value='-1008')\n",
    "dataset_train = dataset_train.replace(to_replace='Shutdown', value='-1009')\n",
    "dataset_train = dataset_train.replace(to_replace='NaN', value='-1010')\n",
    "dataset_train = dataset_train.replace(to_replace='Bad Input', value='-1011')\n",
    "dataset_train = dataset_train.replace(to_replace='Bad', value='-1012')"
   ]
  },
  {
   "cell_type": "code",
   "execution_count": 136,
   "metadata": {},
   "outputs": [],
   "source": [
    "dataset_train = dataset_train.drop(['Unnamed: 0'], axis = 1)\n",
    "dataset_train = dataset_train.drop(['03:FV3195'], axis = 1)\n",
    "dataset_train = dataset_train.drop(['03:FV3197'], axis = 1)\n",
    "dataset_train = dataset_train.drop(['03:FV3199'], axis = 1)"
   ]
  },
  {
   "cell_type": "code",
   "execution_count": 137,
   "metadata": {},
   "outputs": [],
   "source": [
    "dataset_train = dataset_train[1:].replace(',','.', regex=True)"
   ]
  },
  {
   "cell_type": "code",
   "execution_count": 138,
   "metadata": {},
   "outputs": [
    {
     "data": {
      "text/plain": [
       "Date            object\n",
       "03:I3SROE       object\n",
       "03:T3362        object\n",
       "03:PI3061A      object\n",
       "03:PI3061B      object\n",
       "03:PI3061C      object\n",
       "03:PD3066       object\n",
       "03:T3492        object\n",
       "03:T3358        object\n",
       "03:TC3550       object\n",
       "03:TC3550A      object\n",
       "03:FV3762       object\n",
       "03:FC3762       object\n",
       "03:TC3730       object\n",
       "03:TV3730A      object\n",
       "03:TV3730B      object\n",
       "03:TV3730C      object\n",
       "03:T3731        object\n",
       "03:P3649        object\n",
       "03:P3065        object\n",
       "03:LC3661       object\n",
       "03:LI3661A      object\n",
       "03:LI3661B      object\n",
       "03:LI3661C      object\n",
       "03:YV4978       object\n",
       "03:FC3075.OP    object\n",
       "03:FC3075       object\n",
       "03:T3361        object\n",
       "03:T3359        object\n",
       "03:T3360        object\n",
       "03:N3722_1      object\n",
       "03:N3721_1      object\n",
       "03:N3725_1      object\n",
       "03:E3849        object\n",
       "03:T3626        object\n",
       "03:T3627        object\n",
       "03:T3628        object\n",
       "03:N3726_1      object\n",
       "03:E3850        object\n",
       "03:T3629        object\n",
       "03:T3630        object\n",
       "03:T3631        object\n",
       "03:N3723_1      object\n",
       "03:N3727_1      object\n",
       "03:E3851        object\n",
       "03:T3632        object\n",
       "03:T3633        object\n",
       "03:T3634        object\n",
       "03:FC3195       object\n",
       "03:FC3197       object\n",
       "03:FC3199       object\n",
       "dtype: object"
      ]
     },
     "execution_count": 138,
     "metadata": {},
     "output_type": "execute_result"
    }
   ],
   "source": [
    "dataset_train.dtypes"
   ]
  },
  {
   "cell_type": "code",
   "execution_count": 139,
   "metadata": {},
   "outputs": [],
   "source": [
    "for column in dataset_train[1:]:\n",
    "    dataset_train[column] = pd.to_numeric(dataset_train[column], errors='coerce')"
   ]
  },
  {
   "cell_type": "code",
   "execution_count": 140,
   "metadata": {},
   "outputs": [
    {
     "data": {
      "text/plain": [
       "Date            float64\n",
       "03:I3SROE       float64\n",
       "03:T3362        float64\n",
       "03:PI3061A      float64\n",
       "03:PI3061B      float64\n",
       "03:PI3061C      float64\n",
       "03:PD3066       float64\n",
       "03:T3492        float64\n",
       "03:T3358        float64\n",
       "03:TC3550       float64\n",
       "03:TC3550A      float64\n",
       "03:FV3762       float64\n",
       "03:FC3762       float64\n",
       "03:TC3730       float64\n",
       "03:TV3730A      float64\n",
       "03:TV3730B      float64\n",
       "03:TV3730C      float64\n",
       "03:T3731        float64\n",
       "03:P3649        float64\n",
       "03:P3065        float64\n",
       "03:LC3661       float64\n",
       "03:LI3661A      float64\n",
       "03:LI3661B      float64\n",
       "03:LI3661C      float64\n",
       "03:YV4978       float64\n",
       "03:FC3075.OP    float64\n",
       "03:FC3075       float64\n",
       "03:T3361        float64\n",
       "03:T3359        float64\n",
       "03:T3360        float64\n",
       "03:N3722_1      float64\n",
       "03:N3721_1      float64\n",
       "03:N3725_1      float64\n",
       "03:E3849        float64\n",
       "03:T3626        float64\n",
       "03:T3627        float64\n",
       "03:T3628        float64\n",
       "03:N3726_1      float64\n",
       "03:E3850        float64\n",
       "03:T3629        float64\n",
       "03:T3630        float64\n",
       "03:T3631        float64\n",
       "03:N3723_1      float64\n",
       "03:N3727_1      float64\n",
       "03:E3851        float64\n",
       "03:T3632        float64\n",
       "03:T3633        float64\n",
       "03:T3634        float64\n",
       "03:FC3195       float64\n",
       "03:FC3197       float64\n",
       "03:FC3199       float64\n",
       "dtype: object"
      ]
     },
     "execution_count": 140,
     "metadata": {},
     "output_type": "execute_result"
    }
   ],
   "source": [
    "dataset_train.dtypes"
   ]
  },
  {
   "cell_type": "code",
   "execution_count": 141,
   "metadata": {},
   "outputs": [
    {
     "data": {
      "text/plain": [
       "1         1114.411\n",
       "2         1114.056\n",
       "3         1114.888\n",
       "4         1113.542\n",
       "5         1113.840\n",
       "            ...   \n",
       "574000     932.979\n",
       "574001     933.390\n",
       "574002     933.553\n",
       "574003     932.625\n",
       "574004     944.560\n",
       "Name: Durchsatz, Length: 574004, dtype: float64"
      ]
     },
     "execution_count": 141,
     "metadata": {},
     "output_type": "execute_result"
    }
   ],
   "source": [
    "dataset_train['Durchsatz'] = dataset_train['03:FC3195'] + dataset_train['03:FC3197'] + dataset_train['03:FC3199']\n",
    "dataset_train['Durchsatz']"
   ]
  },
  {
   "cell_type": "code",
   "execution_count": 142,
   "metadata": {},
   "outputs": [
    {
     "data": {
      "text/plain": [
       "['03:I3SROE',\n",
       " '03:T3362',\n",
       " '03:PI3061A',\n",
       " '03:PI3061B',\n",
       " '03:PI3061C',\n",
       " '03:PD3066',\n",
       " '03:T3492',\n",
       " '03:T3358',\n",
       " '03:TC3550',\n",
       " '03:TC3550A',\n",
       " '03:FV3762',\n",
       " '03:FC3762',\n",
       " '03:TC3730',\n",
       " '03:TV3730A',\n",
       " '03:TV3730B',\n",
       " '03:TV3730C',\n",
       " '03:T3731',\n",
       " '03:P3649',\n",
       " '03:P3065',\n",
       " '03:LC3661',\n",
       " '03:LI3661A',\n",
       " '03:LI3661B',\n",
       " '03:LI3661C',\n",
       " '03:YV4978',\n",
       " '03:FC3075.OP',\n",
       " '03:FC3075',\n",
       " '03:T3361',\n",
       " '03:T3359',\n",
       " '03:T3360',\n",
       " '03:N3722_1',\n",
       " '03:N3721_1',\n",
       " '03:N3725_1',\n",
       " '03:E3849',\n",
       " '03:T3626',\n",
       " '03:T3627',\n",
       " '03:T3628',\n",
       " '03:N3726_1',\n",
       " '03:E3850',\n",
       " '03:T3629',\n",
       " '03:T3630',\n",
       " '03:T3631',\n",
       " '03:N3723_1',\n",
       " '03:N3727_1',\n",
       " '03:E3851',\n",
       " '03:T3632',\n",
       " '03:T3633',\n",
       " '03:T3634',\n",
       " '03:FC3195',\n",
       " '03:FC3197',\n",
       " '03:FC3199',\n",
       " 'Durchsatz']"
      ]
     },
     "execution_count": 142,
     "metadata": {},
     "output_type": "execute_result"
    }
   ],
   "source": [
    "# Select features (columns) to be involved intro training and predictions\n",
    "cols = list(dataset_train)[1:]\n",
    "\n",
    "cols"
   ]
  },
  {
   "cell_type": "code",
   "execution_count": 143,
   "metadata": {},
   "outputs": [],
   "source": [
    "dataset_train = dataset_train[cols].fillna(0)"
   ]
  },
  {
   "cell_type": "code",
   "execution_count": 144,
   "metadata": {},
   "outputs": [
    {
     "data": {
      "text/plain": [
       "03:I3SROE       False\n",
       "03:T3362        False\n",
       "03:PI3061A      False\n",
       "03:PI3061B      False\n",
       "03:PI3061C      False\n",
       "03:PD3066       False\n",
       "03:T3492        False\n",
       "03:T3358        False\n",
       "03:TC3550       False\n",
       "03:TC3550A      False\n",
       "03:FV3762       False\n",
       "03:FC3762       False\n",
       "03:TC3730       False\n",
       "03:TV3730A      False\n",
       "03:TV3730B      False\n",
       "03:TV3730C      False\n",
       "03:T3731        False\n",
       "03:P3649        False\n",
       "03:P3065        False\n",
       "03:LC3661       False\n",
       "03:LI3661A      False\n",
       "03:LI3661B      False\n",
       "03:LI3661C      False\n",
       "03:YV4978       False\n",
       "03:FC3075.OP    False\n",
       "03:FC3075       False\n",
       "03:T3361        False\n",
       "03:T3359        False\n",
       "03:T3360        False\n",
       "03:N3722_1      False\n",
       "03:N3721_1      False\n",
       "03:N3725_1      False\n",
       "03:E3849        False\n",
       "03:T3626        False\n",
       "03:T3627        False\n",
       "03:T3628        False\n",
       "03:N3726_1      False\n",
       "03:E3850        False\n",
       "03:T3629        False\n",
       "03:T3630        False\n",
       "03:T3631        False\n",
       "03:N3723_1      False\n",
       "03:N3727_1      False\n",
       "03:E3851        False\n",
       "03:T3632        False\n",
       "03:T3633        False\n",
       "03:T3634        False\n",
       "03:FC3195       False\n",
       "03:FC3197       False\n",
       "03:FC3199       False\n",
       "Durchsatz       False\n",
       "dtype: bool"
      ]
     },
     "execution_count": 144,
     "metadata": {},
     "output_type": "execute_result"
    }
   ],
   "source": [
    "dataset_train.isna().any()"
   ]
  },
  {
   "cell_type": "code",
   "execution_count": 145,
   "metadata": {},
   "outputs": [
    {
     "data": {
      "text/plain": [
       "03:I3SROE       False\n",
       "03:T3362        False\n",
       "03:PI3061A      False\n",
       "03:PI3061B      False\n",
       "03:PI3061C      False\n",
       "03:PD3066       False\n",
       "03:T3492        False\n",
       "03:T3358        False\n",
       "03:TC3550       False\n",
       "03:TC3550A      False\n",
       "03:FV3762       False\n",
       "03:FC3762       False\n",
       "03:TC3730       False\n",
       "03:TV3730A      False\n",
       "03:TV3730B      False\n",
       "03:TV3730C      False\n",
       "03:T3731        False\n",
       "03:P3649        False\n",
       "03:P3065        False\n",
       "03:LC3661       False\n",
       "03:LI3661A      False\n",
       "03:LI3661B      False\n",
       "03:LI3661C      False\n",
       "03:YV4978       False\n",
       "03:FC3075.OP    False\n",
       "03:FC3075       False\n",
       "03:T3361        False\n",
       "03:T3359        False\n",
       "03:T3360        False\n",
       "03:N3722_1      False\n",
       "03:N3721_1      False\n",
       "03:N3725_1      False\n",
       "03:E3849        False\n",
       "03:T3626        False\n",
       "03:T3627        False\n",
       "03:T3628        False\n",
       "03:N3726_1      False\n",
       "03:E3850        False\n",
       "03:T3629        False\n",
       "03:T3630        False\n",
       "03:T3631        False\n",
       "03:N3723_1      False\n",
       "03:N3727_1      False\n",
       "03:E3851        False\n",
       "03:T3632        False\n",
       "03:T3633        False\n",
       "03:T3634        False\n",
       "03:FC3195       False\n",
       "03:FC3197       False\n",
       "03:FC3199       False\n",
       "Durchsatz       False\n",
       "dtype: bool"
      ]
     },
     "execution_count": 145,
     "metadata": {},
     "output_type": "execute_result"
    }
   ],
   "source": [
    "dataset_train.isnull().any()"
   ]
  },
  {
   "cell_type": "code",
   "execution_count": 146,
   "metadata": {},
   "outputs": [
    {
     "data": {
      "text/html": [
       "<div>\n",
       "<style scoped>\n",
       "    .dataframe tbody tr th:only-of-type {\n",
       "        vertical-align: middle;\n",
       "    }\n",
       "\n",
       "    .dataframe tbody tr th {\n",
       "        vertical-align: top;\n",
       "    }\n",
       "\n",
       "    .dataframe thead th {\n",
       "        text-align: right;\n",
       "    }\n",
       "</style>\n",
       "<table border=\"1\" class=\"dataframe\">\n",
       "  <thead>\n",
       "    <tr style=\"text-align: right;\">\n",
       "      <th></th>\n",
       "      <th>03:I3SROE</th>\n",
       "      <th>03:T3362</th>\n",
       "      <th>03:PI3061A</th>\n",
       "      <th>03:PI3061B</th>\n",
       "      <th>03:PI3061C</th>\n",
       "      <th>03:PD3066</th>\n",
       "      <th>03:T3492</th>\n",
       "      <th>03:T3358</th>\n",
       "      <th>03:TC3550</th>\n",
       "      <th>03:TC3550A</th>\n",
       "      <th>...</th>\n",
       "      <th>03:N3723_1</th>\n",
       "      <th>03:N3727_1</th>\n",
       "      <th>03:E3851</th>\n",
       "      <th>03:T3632</th>\n",
       "      <th>03:T3633</th>\n",
       "      <th>03:T3634</th>\n",
       "      <th>03:FC3195</th>\n",
       "      <th>03:FC3197</th>\n",
       "      <th>03:FC3199</th>\n",
       "      <th>Durchsatz</th>\n",
       "    </tr>\n",
       "  </thead>\n",
       "  <tbody>\n",
       "    <tr>\n",
       "      <th>1</th>\n",
       "      <td>890.262</td>\n",
       "      <td>77.893</td>\n",
       "      <td>3.024</td>\n",
       "      <td>3.043</td>\n",
       "      <td>3.053</td>\n",
       "      <td>-1001.0</td>\n",
       "      <td>40.415</td>\n",
       "      <td>97.178</td>\n",
       "      <td>120.120</td>\n",
       "      <td>0.0</td>\n",
       "      <td>...</td>\n",
       "      <td>0.0</td>\n",
       "      <td>1.0</td>\n",
       "      <td>0.157</td>\n",
       "      <td>16.675</td>\n",
       "      <td>16.676</td>\n",
       "      <td>13.985</td>\n",
       "      <td>358.897</td>\n",
       "      <td>362.505</td>\n",
       "      <td>393.009</td>\n",
       "      <td>1114.411</td>\n",
       "    </tr>\n",
       "    <tr>\n",
       "      <th>2</th>\n",
       "      <td>890.337</td>\n",
       "      <td>77.863</td>\n",
       "      <td>3.024</td>\n",
       "      <td>3.043</td>\n",
       "      <td>3.051</td>\n",
       "      <td>-1001.0</td>\n",
       "      <td>40.375</td>\n",
       "      <td>97.215</td>\n",
       "      <td>120.027</td>\n",
       "      <td>0.0</td>\n",
       "      <td>...</td>\n",
       "      <td>0.0</td>\n",
       "      <td>1.0</td>\n",
       "      <td>0.158</td>\n",
       "      <td>16.711</td>\n",
       "      <td>16.726</td>\n",
       "      <td>14.020</td>\n",
       "      <td>358.984</td>\n",
       "      <td>362.305</td>\n",
       "      <td>392.767</td>\n",
       "      <td>1114.056</td>\n",
       "    </tr>\n",
       "    <tr>\n",
       "      <th>3</th>\n",
       "      <td>890.294</td>\n",
       "      <td>77.833</td>\n",
       "      <td>3.023</td>\n",
       "      <td>3.043</td>\n",
       "      <td>3.051</td>\n",
       "      <td>-1001.0</td>\n",
       "      <td>40.410</td>\n",
       "      <td>97.602</td>\n",
       "      <td>120.114</td>\n",
       "      <td>0.0</td>\n",
       "      <td>...</td>\n",
       "      <td>0.0</td>\n",
       "      <td>1.0</td>\n",
       "      <td>0.159</td>\n",
       "      <td>16.716</td>\n",
       "      <td>16.784</td>\n",
       "      <td>14.035</td>\n",
       "      <td>362.205</td>\n",
       "      <td>361.171</td>\n",
       "      <td>391.512</td>\n",
       "      <td>1114.888</td>\n",
       "    </tr>\n",
       "    <tr>\n",
       "      <th>4</th>\n",
       "      <td>890.239</td>\n",
       "      <td>77.823</td>\n",
       "      <td>3.023</td>\n",
       "      <td>3.043</td>\n",
       "      <td>3.052</td>\n",
       "      <td>-1001.0</td>\n",
       "      <td>40.410</td>\n",
       "      <td>97.438</td>\n",
       "      <td>120.135</td>\n",
       "      <td>0.0</td>\n",
       "      <td>...</td>\n",
       "      <td>0.0</td>\n",
       "      <td>1.0</td>\n",
       "      <td>0.160</td>\n",
       "      <td>16.750</td>\n",
       "      <td>16.815</td>\n",
       "      <td>14.065</td>\n",
       "      <td>361.954</td>\n",
       "      <td>360.852</td>\n",
       "      <td>390.736</td>\n",
       "      <td>1113.542</td>\n",
       "    </tr>\n",
       "    <tr>\n",
       "      <th>5</th>\n",
       "      <td>890.185</td>\n",
       "      <td>77.867</td>\n",
       "      <td>3.022</td>\n",
       "      <td>3.046</td>\n",
       "      <td>3.053</td>\n",
       "      <td>-1001.0</td>\n",
       "      <td>40.410</td>\n",
       "      <td>97.196</td>\n",
       "      <td>120.142</td>\n",
       "      <td>0.0</td>\n",
       "      <td>...</td>\n",
       "      <td>0.0</td>\n",
       "      <td>1.0</td>\n",
       "      <td>0.161</td>\n",
       "      <td>16.779</td>\n",
       "      <td>16.820</td>\n",
       "      <td>14.086</td>\n",
       "      <td>361.936</td>\n",
       "      <td>360.707</td>\n",
       "      <td>391.197</td>\n",
       "      <td>1113.840</td>\n",
       "    </tr>\n",
       "  </tbody>\n",
       "</table>\n",
       "<p>5 rows × 51 columns</p>\n",
       "</div>"
      ],
      "text/plain": [
       "   03:I3SROE  03:T3362  03:PI3061A  03:PI3061B  03:PI3061C  03:PD3066  \\\n",
       "1    890.262    77.893       3.024       3.043       3.053    -1001.0   \n",
       "2    890.337    77.863       3.024       3.043       3.051    -1001.0   \n",
       "3    890.294    77.833       3.023       3.043       3.051    -1001.0   \n",
       "4    890.239    77.823       3.023       3.043       3.052    -1001.0   \n",
       "5    890.185    77.867       3.022       3.046       3.053    -1001.0   \n",
       "\n",
       "   03:T3492  03:T3358  03:TC3550  03:TC3550A  ...  03:N3723_1  03:N3727_1  \\\n",
       "1    40.415    97.178    120.120         0.0  ...         0.0         1.0   \n",
       "2    40.375    97.215    120.027         0.0  ...         0.0         1.0   \n",
       "3    40.410    97.602    120.114         0.0  ...         0.0         1.0   \n",
       "4    40.410    97.438    120.135         0.0  ...         0.0         1.0   \n",
       "5    40.410    97.196    120.142         0.0  ...         0.0         1.0   \n",
       "\n",
       "   03:E3851  03:T3632  03:T3633  03:T3634  03:FC3195  03:FC3197  03:FC3199  \\\n",
       "1     0.157    16.675    16.676    13.985    358.897    362.505    393.009   \n",
       "2     0.158    16.711    16.726    14.020    358.984    362.305    392.767   \n",
       "3     0.159    16.716    16.784    14.035    362.205    361.171    391.512   \n",
       "4     0.160    16.750    16.815    14.065    361.954    360.852    390.736   \n",
       "5     0.161    16.779    16.820    14.086    361.936    360.707    391.197   \n",
       "\n",
       "   Durchsatz  \n",
       "1   1114.411  \n",
       "2   1114.056  \n",
       "3   1114.888  \n",
       "4   1113.542  \n",
       "5   1113.840  \n",
       "\n",
       "[5 rows x 51 columns]"
      ]
     },
     "execution_count": 146,
     "metadata": {},
     "output_type": "execute_result"
    }
   ],
   "source": [
    "dataset_train.head()"
   ]
  },
  {
   "cell_type": "code",
   "execution_count": 147,
   "metadata": {},
   "outputs": [
    {
     "data": {
      "text/plain": [
       "03:I3SROE       float64\n",
       "03:T3362        float64\n",
       "03:PI3061A      float64\n",
       "03:PI3061B      float64\n",
       "03:PI3061C      float64\n",
       "03:PD3066       float64\n",
       "03:T3492        float64\n",
       "03:T3358        float64\n",
       "03:TC3550       float64\n",
       "03:TC3550A      float64\n",
       "03:FV3762       float64\n",
       "03:FC3762       float64\n",
       "03:TC3730       float64\n",
       "03:TV3730A      float64\n",
       "03:TV3730B      float64\n",
       "03:TV3730C      float64\n",
       "03:T3731        float64\n",
       "03:P3649        float64\n",
       "03:P3065        float64\n",
       "03:LC3661       float64\n",
       "03:LI3661A      float64\n",
       "03:LI3661B      float64\n",
       "03:LI3661C      float64\n",
       "03:YV4978       float64\n",
       "03:FC3075.OP    float64\n",
       "03:FC3075       float64\n",
       "03:T3361        float64\n",
       "03:T3359        float64\n",
       "03:T3360        float64\n",
       "03:N3722_1      float64\n",
       "03:N3721_1      float64\n",
       "03:N3725_1      float64\n",
       "03:E3849        float64\n",
       "03:T3626        float64\n",
       "03:T3627        float64\n",
       "03:T3628        float64\n",
       "03:N3726_1      float64\n",
       "03:E3850        float64\n",
       "03:T3629        float64\n",
       "03:T3630        float64\n",
       "03:T3631        float64\n",
       "03:N3723_1      float64\n",
       "03:N3727_1      float64\n",
       "03:E3851        float64\n",
       "03:T3632        float64\n",
       "03:T3633        float64\n",
       "03:T3634        float64\n",
       "03:FC3195       float64\n",
       "03:FC3197       float64\n",
       "03:FC3199       float64\n",
       "Durchsatz       float64\n",
       "dtype: object"
      ]
     },
     "execution_count": 147,
     "metadata": {},
     "output_type": "execute_result"
    }
   ],
   "source": [
    "dataset_train.dtypes"
   ]
  },
  {
   "cell_type": "code",
   "execution_count": 148,
   "metadata": {},
   "outputs": [],
   "source": [
    "training_set = dataset_train[cols].values"
   ]
  },
  {
   "cell_type": "code",
   "execution_count": 149,
   "metadata": {},
   "outputs": [
    {
     "data": {
      "text/plain": [
       "array([[ 890.262,   77.893,    3.024, ...,  362.505,  393.009, 1114.411],\n",
       "       [ 890.337,   77.863,    3.024, ...,  362.305,  392.767, 1114.056],\n",
       "       [ 890.294,   77.833,    3.023, ...,  361.171,  391.512, 1114.888],\n",
       "       ...,\n",
       "       [ 750.08 ,   73.618,    2.696, ...,  300.264,  333.121,  933.553],\n",
       "       [ 751.267,   73.667,    2.699, ...,  299.913,  332.373,  932.625],\n",
       "       [ 755.64 ,   73.563,    2.701, ...,  305.107,  338.502,  944.56 ]])"
      ]
     },
     "execution_count": 149,
     "metadata": {},
     "output_type": "execute_result"
    }
   ],
   "source": [
    "training_set"
   ]
  },
  {
   "cell_type": "code",
   "execution_count": 150,
   "metadata": {},
   "outputs": [],
   "source": [
    "# Feature Scaling\n",
    "from sklearn.preprocessing import StandardScaler\n",
    "\n",
    "sc = StandardScaler()\n",
    "training_set_scaled = sc.fit_transform(training_set)"
   ]
  },
  {
   "cell_type": "code",
   "execution_count": 151,
   "metadata": {},
   "outputs": [
    {
     "data": {
      "text/plain": [
       "array([[ 0.15047097,  0.03244339,  0.08155981, ...,  0.24316548,\n",
       "         0.23261023,  0.17726205],\n",
       "       [ 0.15093557,  0.03112083,  0.08155981, ...,  0.2397793 ,\n",
       "         0.23038793,  0.17605772],\n",
       "       [ 0.1506692 ,  0.02979827,  0.08154706, ...,  0.22057963,\n",
       "         0.21886317,  0.17888027],\n",
       "       ...,\n",
       "       [-0.71791072, -0.15602151,  0.07737741, ..., -0.81063205,\n",
       "        -0.31734565, -0.43629801],\n",
       "       [-0.71055764, -0.15386133,  0.07741566, ..., -0.8165748 ,\n",
       "        -0.32421459, -0.43944625],\n",
       "       [-0.68346833, -0.1584462 ,  0.07744116, ..., -0.72863559,\n",
       "        -0.26793153, -0.39895681]])"
      ]
     },
     "execution_count": 151,
     "metadata": {},
     "output_type": "execute_result"
    }
   ],
   "source": [
    "training_set_scaled"
   ]
  },
  {
   "cell_type": "code",
   "execution_count": 152,
   "metadata": {},
   "outputs": [
    {
     "data": {
      "text/plain": [
       "array([[ 0.03244339,  0.08155981,  0.08168094, ...,  0.08280322,\n",
       "         0.24316548,  0.23261023],\n",
       "       [ 0.03112083,  0.08155981,  0.08168094, ...,  0.08337684,\n",
       "         0.2397793 ,  0.23038793],\n",
       "       [ 0.02979827,  0.08154706,  0.08168094, ...,  0.10461387,\n",
       "         0.22057963,  0.21886317],\n",
       "       ...,\n",
       "       [-0.15602151,  0.07737741,  0.07726906, ..., -0.30441503,\n",
       "        -0.81063205, -0.31734565],\n",
       "       [-0.15386133,  0.07741566,  0.07728181, ..., -0.30328757,\n",
       "        -0.8165748 , -0.32421459],\n",
       "       [-0.1584462 ,  0.07744116,  0.07729456, ..., -0.29925247,\n",
       "        -0.72863559, -0.26793153]])"
      ]
     },
     "execution_count": 152,
     "metadata": {},
     "output_type": "execute_result"
    }
   ],
   "source": [
    "trainX = training_set_scaled[:,1:50]\n",
    "trainX"
   ]
  },
  {
   "cell_type": "code",
   "execution_count": 153,
   "metadata": {},
   "outputs": [
    {
     "data": {
      "text/plain": [
       "array([[ 0.17726205],\n",
       "       [ 0.17605772],\n",
       "       [ 0.17888027],\n",
       "       ...,\n",
       "       [-0.43629801],\n",
       "       [-0.43944625],\n",
       "       [-0.39895681]])"
      ]
     },
     "execution_count": 153,
     "metadata": {},
     "output_type": "execute_result"
    }
   ],
   "source": [
    "trainY = training_set_scaled[:,50:51]\n",
    "trainY"
   ]
  },
  {
   "cell_type": "code",
   "execution_count": 154,
   "metadata": {},
   "outputs": [],
   "source": [
    "from sklearn.model_selection import train_test_split\n",
    "\n",
    "X_train, X_test, y_train, y_test = train_test_split(trainX, trainY, test_size=0.33, random_state=42)"
   ]
  },
  {
   "cell_type": "code",
   "execution_count": null,
   "metadata": {},
   "outputs": [],
   "source": []
  },
  {
   "cell_type": "code",
   "execution_count": 155,
   "metadata": {},
   "outputs": [],
   "source": [
    "X_train = np.reshape(X_train, (X_train.shape[0], 1, X_train.shape[1]))\n",
    "X_test = np.reshape(X_test, (X_test.shape[0], 1, X_test.shape[1]))\n",
    "y_train = np.reshape(y_train, (y_train.shape[0], 1, y_train.shape[1]))\n",
    "#y_test = np.reshape(y_test, (y_test.shape[0], 1, y_test.shape[1]))"
   ]
  },
  {
   "cell_type": "code",
   "execution_count": 156,
   "metadata": {},
   "outputs": [
    {
     "data": {
      "text/plain": [
       "(384582, 1, 49)"
      ]
     },
     "execution_count": 156,
     "metadata": {},
     "output_type": "execute_result"
    }
   ],
   "source": [
    "X_train.shape"
   ]
  },
  {
   "cell_type": "code",
   "execution_count": 157,
   "metadata": {},
   "outputs": [],
   "source": [
    "#X_train = X_train.reshape(1,384582, 49)\n",
    "#y_train = y_train.reshape(1, 384582, 1)\n",
    "#X_test = X_test.reshape(1,189422, 49)\n",
    "#y_test = y_test.reshape(1, 189422, 1)"
   ]
  },
  {
   "cell_type": "code",
   "execution_count": null,
   "metadata": {},
   "outputs": [],
   "source": []
  },
  {
   "cell_type": "code",
   "execution_count": 158,
   "metadata": {},
   "outputs": [],
   "source": [
    "import tensorflow as tf\n",
    "\n",
    "model = tf.keras.Sequential()\n",
    "model.add(tf.keras.layers.LSTM(50, input_shape=(1, 49)))\n",
    "model.add(tf.keras.layers.Dense(1))\n",
    "opt = tf.keras.optimizers.RMSprop(learning_rate=0.1)\n",
    "model.compile(loss='mae', optimizer=opt)"
   ]
  },
  {
   "cell_type": "code",
   "execution_count": 159,
   "metadata": {},
   "outputs": [
    {
     "data": {
      "text/plain": [
       "(384582, 1, 49)"
      ]
     },
     "execution_count": 159,
     "metadata": {},
     "output_type": "execute_result"
    }
   ],
   "source": [
    "X_train.shape"
   ]
  },
  {
   "cell_type": "code",
   "execution_count": 160,
   "metadata": {},
   "outputs": [
    {
     "data": {
      "text/plain": [
       "(189422, 1, 49)"
      ]
     },
     "execution_count": 160,
     "metadata": {},
     "output_type": "execute_result"
    }
   ],
   "source": [
    "X_test.shape"
   ]
  },
  {
   "cell_type": "code",
   "execution_count": 161,
   "metadata": {},
   "outputs": [
    {
     "data": {
      "text/plain": [
       "(384582, 1, 1)"
      ]
     },
     "execution_count": 161,
     "metadata": {},
     "output_type": "execute_result"
    }
   ],
   "source": [
    "y_train.shape"
   ]
  },
  {
   "cell_type": "code",
   "execution_count": 162,
   "metadata": {},
   "outputs": [
    {
     "data": {
      "text/plain": [
       "(189422, 1)"
      ]
     },
     "execution_count": 162,
     "metadata": {},
     "output_type": "execute_result"
    }
   ],
   "source": [
    "y_test.shape"
   ]
  },
  {
   "cell_type": "code",
   "execution_count": 163,
   "metadata": {},
   "outputs": [],
   "source": [
    "import matplotlib.pyplot as plt"
   ]
  },
  {
   "cell_type": "code",
   "execution_count": null,
   "metadata": {},
   "outputs": [],
   "source": []
  },
  {
   "cell_type": "code",
   "execution_count": 164,
   "metadata": {
    "scrolled": true
   },
   "outputs": [
    {
     "name": "stdout",
     "output_type": "stream",
     "text": [
      "Epoch 1/50\n",
      "5342/5342 - 8s - loss: 0.1609 - val_loss: 0.1903\n",
      "Epoch 2/50\n",
      "5342/5342 - 7s - loss: 0.1370 - val_loss: 0.1364\n",
      "Epoch 3/50\n",
      "5342/5342 - 6s - loss: 0.1168 - val_loss: 0.1037\n",
      "Epoch 4/50\n",
      "5342/5342 - 6s - loss: 0.1139 - val_loss: 0.1197\n",
      "Epoch 5/50\n",
      "5342/5342 - 7s - loss: 0.1098 - val_loss: 0.1191\n",
      "Epoch 6/50\n",
      "5342/5342 - 7s - loss: 0.1110 - val_loss: 0.1358\n",
      "Epoch 7/50\n",
      "5342/5342 - 6s - loss: 0.1077 - val_loss: 0.1201\n",
      "Epoch 8/50\n",
      "5342/5342 - 6s - loss: 0.1057 - val_loss: 0.1194\n",
      "Epoch 9/50\n",
      "5342/5342 - 6s - loss: 0.1053 - val_loss: 0.0956\n",
      "Epoch 10/50\n",
      "5342/5342 - 6s - loss: 0.1039 - val_loss: 0.1102\n",
      "Epoch 11/50\n",
      "5342/5342 - 6s - loss: 0.1049 - val_loss: 0.1512\n",
      "Epoch 12/50\n",
      "5342/5342 - 6s - loss: 0.1042 - val_loss: 0.0912\n",
      "Epoch 13/50\n",
      "5342/5342 - 6s - loss: 0.1036 - val_loss: 0.0881\n",
      "Epoch 14/50\n",
      "5342/5342 - 6s - loss: 0.1035 - val_loss: 0.1179\n",
      "Epoch 15/50\n",
      "5342/5342 - 7s - loss: 0.1017 - val_loss: 0.1092\n",
      "Epoch 16/50\n",
      "5342/5342 - 7s - loss: 0.1021 - val_loss: 0.0920\n",
      "Epoch 17/50\n",
      "5342/5342 - 6s - loss: 0.1015 - val_loss: 0.1113\n",
      "Epoch 18/50\n",
      "5342/5342 - 7s - loss: 0.1007 - val_loss: 0.0966\n",
      "Epoch 19/50\n",
      "5342/5342 - 7s - loss: 0.1011 - val_loss: 0.1047\n",
      "Epoch 20/50\n",
      "5342/5342 - 7s - loss: 0.1006 - val_loss: 0.1265\n",
      "Epoch 21/50\n",
      "5342/5342 - 7s - loss: 0.1009 - val_loss: 0.1011\n",
      "Epoch 22/50\n",
      "5342/5342 - 7s - loss: 0.0994 - val_loss: 0.1500\n",
      "Epoch 23/50\n",
      "5342/5342 - 7s - loss: 0.0994 - val_loss: 0.1422\n",
      "Epoch 24/50\n",
      "5342/5342 - 7s - loss: 0.0998 - val_loss: 0.1128\n",
      "Epoch 25/50\n",
      "5342/5342 - 7s - loss: 0.0997 - val_loss: 0.1065\n",
      "Epoch 26/50\n",
      "5342/5342 - 6s - loss: 0.0999 - val_loss: 0.1034\n",
      "Epoch 27/50\n",
      "5342/5342 - 7s - loss: 0.1004 - val_loss: 0.1409\n",
      "Epoch 28/50\n",
      "5342/5342 - 7s - loss: 0.1001 - val_loss: 0.1693\n",
      "Epoch 29/50\n",
      "5342/5342 - 7s - loss: 0.1003 - val_loss: 0.1181\n",
      "Epoch 30/50\n",
      "5342/5342 - 7s - loss: 0.1008 - val_loss: 0.1382\n",
      "Epoch 31/50\n",
      "5342/5342 - 7s - loss: 0.1013 - val_loss: 0.1374\n",
      "Epoch 32/50\n",
      "5342/5342 - 7s - loss: 0.0999 - val_loss: 0.1561\n",
      "Epoch 33/50\n",
      "5342/5342 - 7s - loss: 0.1008 - val_loss: 0.1227\n",
      "Epoch 34/50\n",
      "5342/5342 - 7s - loss: 0.1013 - val_loss: 0.0917\n",
      "Epoch 35/50\n",
      "5342/5342 - 7s - loss: 0.1021 - val_loss: 0.1224\n",
      "Epoch 36/50\n",
      "5342/5342 - 7s - loss: 0.1023 - val_loss: 0.1130\n",
      "Epoch 37/50\n",
      "5342/5342 - 7s - loss: 0.1018 - val_loss: 0.1296\n",
      "Epoch 38/50\n",
      "5342/5342 - 7s - loss: 0.1019 - val_loss: 0.0981\n",
      "Epoch 39/50\n",
      "5342/5342 - 7s - loss: 0.1010 - val_loss: 0.1380\n",
      "Epoch 40/50\n",
      "5342/5342 - 7s - loss: 0.1017 - val_loss: 0.1232\n",
      "Epoch 41/50\n",
      "5342/5342 - 7s - loss: 0.1018 - val_loss: 0.1134\n",
      "Epoch 42/50\n",
      "5342/5342 - 7s - loss: 0.1017 - val_loss: 0.0854\n",
      "Epoch 43/50\n",
      "5342/5342 - 7s - loss: 0.1014 - val_loss: 0.1518\n",
      "Epoch 44/50\n",
      "5342/5342 - 7s - loss: 0.1006 - val_loss: 0.0938\n",
      "Epoch 45/50\n",
      "5342/5342 - 7s - loss: 0.1005 - val_loss: 0.0998\n",
      "Epoch 46/50\n",
      "5342/5342 - 7s - loss: 0.1003 - val_loss: 0.1143\n",
      "Epoch 47/50\n",
      "5342/5342 - 7s - loss: 0.1007 - val_loss: 0.1109\n",
      "Epoch 48/50\n",
      "5342/5342 - 7s - loss: 0.1008 - val_loss: 0.1088\n",
      "Epoch 49/50\n",
      "5342/5342 - 7s - loss: 0.1009 - val_loss: 0.1227\n",
      "Epoch 50/50\n",
      "5342/5342 - 7s - loss: 0.1006 - val_loss: 0.1069\n"
     ]
    },
    {
     "data": {
      "image/png": "[encoded data removed]",
      "text/plain": [
       "<Figure size 432x288 with 1 Axes>"
      ]
     },
     "metadata": {
      "needs_background": "light"
     },
     "output_type": "display_data"
    }
   ],
   "source": [
    "history = model.fit(X_train, y_train, epochs=50, batch_size=72, validation_data=(X_test, y_test), verbose=2, shuffle=False)\n",
    "# plot history\n",
    "import matplotlib.pyplot as plt\n",
    "plt.plot(history.history['loss'], label='train')\n",
    "plt.plot(history.history['val_loss'], label='test')\n",
    "plt.legend()\n",
    "plt.show()"
   ]
  },
  {
   "cell_type": "code",
   "execution_count": 165,
   "metadata": {},
   "outputs": [
    {
     "name": "stdout",
     "output_type": "stream",
     "text": [
      "[[ 0.21461996]\n",
      " [ 0.21461996]\n",
      " [ 0.21461996]\n",
      " ...\n",
      " [ 0.21461996]\n",
      " [ 0.21461996]\n",
      " [-1.0427305 ]]\n"
     ]
    }
   ],
   "source": [
    "yhat = model.predict(X_test, verbose=0)\n",
    "print(yhat)"
   ]
  },
  {
   "cell_type": "code",
   "execution_count": 166,
   "metadata": {},
   "outputs": [
    {
     "data": {
      "text/plain": [
       "array([[ 0.21461996],\n",
       "       [ 0.21461996],\n",
       "       [ 0.21461996],\n",
       "       ...,\n",
       "       [ 0.21461996],\n",
       "       [ 0.21461996],\n",
       "       [-1.0427305 ]], dtype=float32)"
      ]
     },
     "execution_count": 166,
     "metadata": {},
     "output_type": "execute_result"
    }
   ],
   "source": [
    "yhat.reshape(189422,1)"
   ]
  },
  {
   "cell_type": "code",
   "execution_count": 167,
   "metadata": {},
   "outputs": [
    {
     "data": {
      "text/plain": [
       "array([[ 0.24494235],\n",
       "       [ 0.27750692],\n",
       "       [ 0.24859946],\n",
       "       ...,\n",
       "       [ 0.24660467],\n",
       "       [ 0.28008861],\n",
       "       [-0.76155358]])"
      ]
     },
     "execution_count": 167,
     "metadata": {},
     "output_type": "execute_result"
    }
   ],
   "source": [
    "y_test.reshape(189422,1)"
   ]
  },
  {
   "cell_type": "code",
   "execution_count": 168,
   "metadata": {},
   "outputs": [
    {
     "data": {
      "text/plain": [
       "(189422, 1)"
      ]
     },
     "execution_count": 168,
     "metadata": {},
     "output_type": "execute_result"
    }
   ],
   "source": [
    "yhat.shape"
   ]
  },
  {
   "cell_type": "code",
   "execution_count": 169,
   "metadata": {},
   "outputs": [
    {
     "data": {
      "text/plain": [
       "(189422, 1)"
      ]
     },
     "execution_count": 169,
     "metadata": {},
     "output_type": "execute_result"
    }
   ],
   "source": [
    "y_test.shape"
   ]
  },
  {
   "cell_type": "code",
   "execution_count": 176,
   "metadata": {},
   "outputs": [
    {
     "data": {
      "image/png": "[encoded data removed]",
      "text/plain": [
       "<Figure size 1440x720 with 1 Axes>"
      ]
     },
     "metadata": {
      "needs_background": "light"
     },
     "output_type": "display_data"
    }
   ],
   "source": [
    "plt.figure(figsize=(20,10))\n",
    "plt.plot(y_test, label='test')\n",
    "plt.plot(yhat, label='prediction')\n",
    "plt.legend()\n",
    "plt.show()"
   ]
  },
  {
   "cell_type": "code",
   "execution_count": null,
   "metadata": {},
   "outputs": [],
   "source": []
  },
  {
   "cell_type": "code",
   "execution_count": null,
   "metadata": {},
   "outputs": [],
   "source": []
  },
  {
   "cell_type": "code",
   "execution_count": null,
   "metadata": {},
   "outputs": [],
   "source": []
  },
  {
   "cell_type": "code",
   "execution_count": null,
   "metadata": {},
   "outputs": [],
   "source": []
  },
  {
   "cell_type": "code",
   "execution_count": null,
   "metadata": {},
   "outputs": [],
   "source": []
  },
  {
   "cell_type": "code",
   "execution_count": null,
   "metadata": {},
   "outputs": [],
   "source": []
  },
  {
   "cell_type": "code",
   "execution_count": null,
   "metadata": {},
   "outputs": [],
   "source": []
  },
  {
   "cell_type": "code",
   "execution_count": null,
   "metadata": {},
   "outputs": [],
   "source": []
  }
 ],
 "metadata": {
  "kernelspec": {
   "display_name": "Python 3",
   "language": "python",
   "name": "python3"
  },
  "language_info": {
   "codemirror_mode": {
    "name": "ipython",
    "version": 3
   },
   "file_extension": ".py",
   "mimetype": "text/x-python",
   "name": "python",
   "nbconvert_exporter": "python",
   "pygments_lexer": "ipython3",
   "version": "3.8.6"
  }
 },
 "nbformat": 4,
 "nbformat_minor": 4
}
