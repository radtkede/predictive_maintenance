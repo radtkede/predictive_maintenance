{
 "cells": [
  {
   "cell_type": "code",
   "execution_count": 2,
   "metadata": {},
   "outputs": [
    {
     "name": "stderr",
     "output_type": "stream",
     "text": [
      "Using TensorFlow backend.\n"
     ]
    }
   ],
   "source": [
    "# Import modules and packages\n",
    "import numpy as np\n",
    "import pandas as pd\n",
    "import matplotlib.pyplot as plt\n",
    "import datetime as dt\n",
    "from datetime import datetime\n",
    "\n",
    "from keras.callbacks import EarlyStopping, ReduceLROnPlateau, ModelCheckpoint, TensorBoard\n",
    "\n",
    "%matplotlib inline"
   ]
  },
  {
   "cell_type": "code",
   "execution_count": 4,
   "metadata": {},
   "outputs": [],
   "source": [
    "dataset_train = pd.read_csv('/Users/dennis/git/Data/cleaned_2020.csv')"
   ]
  },
  {
   "cell_type": "code",
   "execution_count": 5,
   "metadata": {},
   "outputs": [
    {
     "data": {
      "text/html": [
       "<div>\n",
       "<style scoped>\n",
       "    .dataframe tbody tr th:only-of-type {\n",
       "        vertical-align: middle;\n",
       "    }\n",
       "\n",
       "    .dataframe tbody tr th {\n",
       "        vertical-align: top;\n",
       "    }\n",
       "\n",
       "    .dataframe thead th {\n",
       "        text-align: right;\n",
       "    }\n",
       "</style>\n",
       "<table border=\"1\" class=\"dataframe\">\n",
       "  <thead>\n",
       "    <tr style=\"text-align: right;\">\n",
       "      <th></th>\n",
       "      <th>ds</th>\n",
       "      <th>03:I3SROE</th>\n",
       "      <th>03:T3362</th>\n",
       "      <th>03:PI3061A</th>\n",
       "      <th>03:PI3061B</th>\n",
       "      <th>03:PI3061C</th>\n",
       "      <th>03:PD3066</th>\n",
       "      <th>03:T3492</th>\n",
       "      <th>03:T3358</th>\n",
       "      <th>03:TC3550</th>\n",
       "      <th>...</th>\n",
       "      <th>03:N3723_1</th>\n",
       "      <th>03:N3727_1</th>\n",
       "      <th>03:E3851</th>\n",
       "      <th>03:T3632</th>\n",
       "      <th>03:T3633</th>\n",
       "      <th>03:T3634</th>\n",
       "      <th>03:FC3195</th>\n",
       "      <th>03:FC3197</th>\n",
       "      <th>03:FC3199</th>\n",
       "      <th>y</th>\n",
       "    </tr>\n",
       "  </thead>\n",
       "  <tbody>\n",
       "    <tr>\n",
       "      <th>0</th>\n",
       "      <td>2020-01-01 00:00:00</td>\n",
       "      <td>780.512</td>\n",
       "      <td>81.377</td>\n",
       "      <td>3.404</td>\n",
       "      <td>3.408</td>\n",
       "      <td>3.401</td>\n",
       "      <td>0.299</td>\n",
       "      <td>41.446</td>\n",
       "      <td>134.946</td>\n",
       "      <td>125.628</td>\n",
       "      <td>...</td>\n",
       "      <td>1.0</td>\n",
       "      <td>1.0</td>\n",
       "      <td>27.521</td>\n",
       "      <td>36.051</td>\n",
       "      <td>36.309</td>\n",
       "      <td>22.818</td>\n",
       "      <td>320.155</td>\n",
       "      <td>297.566</td>\n",
       "      <td>325.710</td>\n",
       "      <td>943.431</td>\n",
       "    </tr>\n",
       "    <tr>\n",
       "      <th>1</th>\n",
       "      <td>2020-01-01 00:10:00</td>\n",
       "      <td>780.051</td>\n",
       "      <td>81.377</td>\n",
       "      <td>3.401</td>\n",
       "      <td>3.402</td>\n",
       "      <td>3.400</td>\n",
       "      <td>0.298</td>\n",
       "      <td>41.676</td>\n",
       "      <td>135.032</td>\n",
       "      <td>125.583</td>\n",
       "      <td>...</td>\n",
       "      <td>1.0</td>\n",
       "      <td>1.0</td>\n",
       "      <td>27.212</td>\n",
       "      <td>36.092</td>\n",
       "      <td>36.348</td>\n",
       "      <td>22.865</td>\n",
       "      <td>320.718</td>\n",
       "      <td>297.288</td>\n",
       "      <td>325.425</td>\n",
       "      <td>943.431</td>\n",
       "    </tr>\n",
       "    <tr>\n",
       "      <th>2</th>\n",
       "      <td>2020-01-01 00:20:00</td>\n",
       "      <td>779.416</td>\n",
       "      <td>81.329</td>\n",
       "      <td>3.397</td>\n",
       "      <td>3.403</td>\n",
       "      <td>3.399</td>\n",
       "      <td>0.300</td>\n",
       "      <td>41.762</td>\n",
       "      <td>134.732</td>\n",
       "      <td>125.600</td>\n",
       "      <td>...</td>\n",
       "      <td>1.0</td>\n",
       "      <td>1.0</td>\n",
       "      <td>27.832</td>\n",
       "      <td>35.906</td>\n",
       "      <td>36.276</td>\n",
       "      <td>22.869</td>\n",
       "      <td>320.184</td>\n",
       "      <td>297.656</td>\n",
       "      <td>325.233</td>\n",
       "      <td>943.073</td>\n",
       "    </tr>\n",
       "    <tr>\n",
       "      <th>3</th>\n",
       "      <td>2020-01-01 00:30:00</td>\n",
       "      <td>780.344</td>\n",
       "      <td>81.250</td>\n",
       "      <td>3.398</td>\n",
       "      <td>3.404</td>\n",
       "      <td>3.398</td>\n",
       "      <td>0.300</td>\n",
       "      <td>41.909</td>\n",
       "      <td>134.521</td>\n",
       "      <td>125.612</td>\n",
       "      <td>...</td>\n",
       "      <td>1.0</td>\n",
       "      <td>1.0</td>\n",
       "      <td>27.571</td>\n",
       "      <td>35.977</td>\n",
       "      <td>36.262</td>\n",
       "      <td>22.878</td>\n",
       "      <td>319.879</td>\n",
       "      <td>297.386</td>\n",
       "      <td>326.211</td>\n",
       "      <td>943.476</td>\n",
       "    </tr>\n",
       "    <tr>\n",
       "      <th>4</th>\n",
       "      <td>2020-01-01 00:40:00</td>\n",
       "      <td>780.231</td>\n",
       "      <td>81.377</td>\n",
       "      <td>3.403</td>\n",
       "      <td>3.405</td>\n",
       "      <td>3.399</td>\n",
       "      <td>0.298</td>\n",
       "      <td>41.983</td>\n",
       "      <td>134.352</td>\n",
       "      <td>125.703</td>\n",
       "      <td>...</td>\n",
       "      <td>1.0</td>\n",
       "      <td>1.0</td>\n",
       "      <td>27.194</td>\n",
       "      <td>36.000</td>\n",
       "      <td>36.246</td>\n",
       "      <td>22.850</td>\n",
       "      <td>320.310</td>\n",
       "      <td>297.659</td>\n",
       "      <td>325.206</td>\n",
       "      <td>943.175</td>\n",
       "    </tr>\n",
       "  </tbody>\n",
       "</table>\n",
       "<p>5 rows × 52 columns</p>\n",
       "</div>"
      ],
      "text/plain": [
       "                    ds  03:I3SROE  03:T3362  03:PI3061A  03:PI3061B  \\\n",
       "0  2020-01-01 00:00:00    780.512    81.377       3.404       3.408   \n",
       "1  2020-01-01 00:10:00    780.051    81.377       3.401       3.402   \n",
       "2  2020-01-01 00:20:00    779.416    81.329       3.397       3.403   \n",
       "3  2020-01-01 00:30:00    780.344    81.250       3.398       3.404   \n",
       "4  2020-01-01 00:40:00    780.231    81.377       3.403       3.405   \n",
       "\n",
       "   03:PI3061C  03:PD3066  03:T3492  03:T3358  03:TC3550  ...  03:N3723_1  \\\n",
       "0       3.401      0.299    41.446   134.946    125.628  ...         1.0   \n",
       "1       3.400      0.298    41.676   135.032    125.583  ...         1.0   \n",
       "2       3.399      0.300    41.762   134.732    125.600  ...         1.0   \n",
       "3       3.398      0.300    41.909   134.521    125.612  ...         1.0   \n",
       "4       3.399      0.298    41.983   134.352    125.703  ...         1.0   \n",
       "\n",
       "   03:N3727_1  03:E3851  03:T3632  03:T3633  03:T3634  03:FC3195  03:FC3197  \\\n",
       "0         1.0    27.521    36.051    36.309    22.818    320.155    297.566   \n",
       "1         1.0    27.212    36.092    36.348    22.865    320.718    297.288   \n",
       "2         1.0    27.832    35.906    36.276    22.869    320.184    297.656   \n",
       "3         1.0    27.571    35.977    36.262    22.878    319.879    297.386   \n",
       "4         1.0    27.194    36.000    36.246    22.850    320.310    297.659   \n",
       "\n",
       "   03:FC3199        y  \n",
       "0    325.710  943.431  \n",
       "1    325.425  943.431  \n",
       "2    325.233  943.073  \n",
       "3    326.211  943.476  \n",
       "4    325.206  943.175  \n",
       "\n",
       "[5 rows x 52 columns]"
      ]
     },
     "execution_count": 5,
     "metadata": {},
     "output_type": "execute_result"
    }
   ],
   "source": [
    "dataset_train.head()"
   ]
  },
  {
   "cell_type": "code",
   "execution_count": 6,
   "metadata": {},
   "outputs": [
    {
     "data": {
      "text/plain": [
       "['03:I3SROE',\n",
       " '03:T3362',\n",
       " '03:PI3061A',\n",
       " '03:PI3061B',\n",
       " '03:PI3061C',\n",
       " '03:PD3066',\n",
       " '03:T3492',\n",
       " '03:T3358',\n",
       " '03:TC3550',\n",
       " '03:TC3550A',\n",
       " '03:FV3762',\n",
       " '03:FC3762',\n",
       " '03:TC3730',\n",
       " '03:TV3730A',\n",
       " '03:TV3730B',\n",
       " '03:TV3730C',\n",
       " '03:T3731',\n",
       " '03:P3649',\n",
       " '03:P3065',\n",
       " '03:LC3661',\n",
       " '03:LI3661A',\n",
       " '03:LI3661B',\n",
       " '03:LI3661C',\n",
       " '03:YV4978',\n",
       " '03:FC3075.OP',\n",
       " '03:FC3075',\n",
       " '03:T3361',\n",
       " '03:T3359',\n",
       " '03:T3360',\n",
       " '03:N3722_1',\n",
       " '03:N3721_1',\n",
       " '03:N3725_1',\n",
       " '03:E3849',\n",
       " '03:T3626',\n",
       " '03:T3627',\n",
       " '03:T3628',\n",
       " '03:N3726_1',\n",
       " '03:E3850',\n",
       " '03:T3629',\n",
       " '03:T3630',\n",
       " '03:T3631',\n",
       " '03:N3723_1',\n",
       " '03:N3727_1',\n",
       " '03:E3851',\n",
       " '03:T3632',\n",
       " '03:T3633',\n",
       " '03:T3634',\n",
       " '03:FC3195',\n",
       " '03:FC3197',\n",
       " '03:FC3199',\n",
       " 'y']"
      ]
     },
     "execution_count": 6,
     "metadata": {},
     "output_type": "execute_result"
    }
   ],
   "source": [
    "# Select features (columns) to be involved intro training and predictions\n",
    "cols = list(dataset_train)[1:]\n",
    "\n",
    "cols"
   ]
  },
  {
   "cell_type": "code",
   "execution_count": 135,
   "metadata": {},
   "outputs": [],
   "source": []
  },
  {
   "cell_type": "code",
   "execution_count": 136,
   "metadata": {},
   "outputs": [],
   "source": []
  },
  {
   "cell_type": "code",
   "execution_count": 137,
   "metadata": {},
   "outputs": [],
   "source": []
  },
  {
   "cell_type": "code",
   "execution_count": null,
   "metadata": {},
   "outputs": [],
   "source": []
  },
  {
   "cell_type": "code",
   "execution_count": null,
   "metadata": {},
   "outputs": [],
   "source": []
  },
  {
   "cell_type": "code",
   "execution_count": null,
   "metadata": {},
   "outputs": [],
   "source": []
  },
  {
   "cell_type": "code",
   "execution_count": null,
   "metadata": {},
   "outputs": [],
   "source": []
  },
  {
   "cell_type": "code",
   "execution_count": 142,
   "metadata": {},
   "outputs": [
    {
     "data": {
      "text/plain": [
       "['03:I3SROE',\n",
       " '03:T3362',\n",
       " '03:PI3061A',\n",
       " '03:PI3061B',\n",
       " '03:PI3061C',\n",
       " '03:PD3066',\n",
       " '03:T3492',\n",
       " '03:T3358',\n",
       " '03:TC3550',\n",
       " '03:TC3550A',\n",
       " '03:FV3762',\n",
       " '03:FC3762',\n",
       " '03:TC3730',\n",
       " '03:TV3730A',\n",
       " '03:TV3730B',\n",
       " '03:TV3730C',\n",
       " '03:T3731',\n",
       " '03:P3649',\n",
       " '03:P3065',\n",
       " '03:LC3661',\n",
       " '03:LI3661A',\n",
       " '03:LI3661B',\n",
       " '03:LI3661C',\n",
       " '03:YV4978',\n",
       " '03:FC3075.OP',\n",
       " '03:FC3075',\n",
       " '03:T3361',\n",
       " '03:T3359',\n",
       " '03:T3360',\n",
       " '03:N3722_1',\n",
       " '03:N3721_1',\n",
       " '03:N3725_1',\n",
       " '03:E3849',\n",
       " '03:T3626',\n",
       " '03:T3627',\n",
       " '03:T3628',\n",
       " '03:N3726_1',\n",
       " '03:E3850',\n",
       " '03:T3629',\n",
       " '03:T3630',\n",
       " '03:T3631',\n",
       " '03:N3723_1',\n",
       " '03:N3727_1',\n",
       " '03:E3851',\n",
       " '03:T3632',\n",
       " '03:T3633',\n",
       " '03:T3634',\n",
       " '03:FC3195',\n",
       " '03:FC3197',\n",
       " '03:FC3199',\n",
       " 'Durchsatz']"
      ]
     },
     "execution_count": 142,
     "metadata": {},
     "output_type": "execute_result"
    }
   ],
   "source": []
  },
  {
   "cell_type": "code",
   "execution_count": 7,
   "metadata": {},
   "outputs": [],
   "source": [
    "dataset_train = dataset_train[cols].fillna(0)"
   ]
  },
  {
   "cell_type": "code",
   "execution_count": 8,
   "metadata": {},
   "outputs": [
    {
     "data": {
      "text/plain": [
       "03:I3SROE       False\n",
       "03:T3362        False\n",
       "03:PI3061A      False\n",
       "03:PI3061B      False\n",
       "03:PI3061C      False\n",
       "03:PD3066       False\n",
       "03:T3492        False\n",
       "03:T3358        False\n",
       "03:TC3550       False\n",
       "03:TC3550A      False\n",
       "03:FV3762       False\n",
       "03:FC3762       False\n",
       "03:TC3730       False\n",
       "03:TV3730A      False\n",
       "03:TV3730B      False\n",
       "03:TV3730C      False\n",
       "03:T3731        False\n",
       "03:P3649        False\n",
       "03:P3065        False\n",
       "03:LC3661       False\n",
       "03:LI3661A      False\n",
       "03:LI3661B      False\n",
       "03:LI3661C      False\n",
       "03:YV4978       False\n",
       "03:FC3075.OP    False\n",
       "03:FC3075       False\n",
       "03:T3361        False\n",
       "03:T3359        False\n",
       "03:T3360        False\n",
       "03:N3722_1      False\n",
       "03:N3721_1      False\n",
       "03:N3725_1      False\n",
       "03:E3849        False\n",
       "03:T3626        False\n",
       "03:T3627        False\n",
       "03:T3628        False\n",
       "03:N3726_1      False\n",
       "03:E3850        False\n",
       "03:T3629        False\n",
       "03:T3630        False\n",
       "03:T3631        False\n",
       "03:N3723_1      False\n",
       "03:N3727_1      False\n",
       "03:E3851        False\n",
       "03:T3632        False\n",
       "03:T3633        False\n",
       "03:T3634        False\n",
       "03:FC3195       False\n",
       "03:FC3197       False\n",
       "03:FC3199       False\n",
       "y               False\n",
       "dtype: bool"
      ]
     },
     "execution_count": 8,
     "metadata": {},
     "output_type": "execute_result"
    }
   ],
   "source": [
    "dataset_train.isna().any()"
   ]
  },
  {
   "cell_type": "code",
   "execution_count": 145,
   "metadata": {},
   "outputs": [
    {
     "data": {
      "text/plain": [
       "03:I3SROE       False\n",
       "03:T3362        False\n",
       "03:PI3061A      False\n",
       "03:PI3061B      False\n",
       "03:PI3061C      False\n",
       "03:PD3066       False\n",
       "03:T3492        False\n",
       "03:T3358        False\n",
       "03:TC3550       False\n",
       "03:TC3550A      False\n",
       "03:FV3762       False\n",
       "03:FC3762       False\n",
       "03:TC3730       False\n",
       "03:TV3730A      False\n",
       "03:TV3730B      False\n",
       "03:TV3730C      False\n",
       "03:T3731        False\n",
       "03:P3649        False\n",
       "03:P3065        False\n",
       "03:LC3661       False\n",
       "03:LI3661A      False\n",
       "03:LI3661B      False\n",
       "03:LI3661C      False\n",
       "03:YV4978       False\n",
       "03:FC3075.OP    False\n",
       "03:FC3075       False\n",
       "03:T3361        False\n",
       "03:T3359        False\n",
       "03:T3360        False\n",
       "03:N3722_1      False\n",
       "03:N3721_1      False\n",
       "03:N3725_1      False\n",
       "03:E3849        False\n",
       "03:T3626        False\n",
       "03:T3627        False\n",
       "03:T3628        False\n",
       "03:N3726_1      False\n",
       "03:E3850        False\n",
       "03:T3629        False\n",
       "03:T3630        False\n",
       "03:T3631        False\n",
       "03:N3723_1      False\n",
       "03:N3727_1      False\n",
       "03:E3851        False\n",
       "03:T3632        False\n",
       "03:T3633        False\n",
       "03:T3634        False\n",
       "03:FC3195       False\n",
       "03:FC3197       False\n",
       "03:FC3199       False\n",
       "Durchsatz       False\n",
       "dtype: bool"
      ]
     },
     "execution_count": 145,
     "metadata": {},
     "output_type": "execute_result"
    }
   ],
   "source": [
    "dataset_train.isnull().any()"
   ]
  },
  {
   "cell_type": "code",
   "execution_count": 9,
   "metadata": {},
   "outputs": [
    {
     "data": {
      "text/html": [
       "<div>\n",
       "<style scoped>\n",
       "    .dataframe tbody tr th:only-of-type {\n",
       "        vertical-align: middle;\n",
       "    }\n",
       "\n",
       "    .dataframe tbody tr th {\n",
       "        vertical-align: top;\n",
       "    }\n",
       "\n",
       "    .dataframe thead th {\n",
       "        text-align: right;\n",
       "    }\n",
       "</style>\n",
       "<table border=\"1\" class=\"dataframe\">\n",
       "  <thead>\n",
       "    <tr style=\"text-align: right;\">\n",
       "      <th></th>\n",
       "      <th>03:I3SROE</th>\n",
       "      <th>03:T3362</th>\n",
       "      <th>03:PI3061A</th>\n",
       "      <th>03:PI3061B</th>\n",
       "      <th>03:PI3061C</th>\n",
       "      <th>03:PD3066</th>\n",
       "      <th>03:T3492</th>\n",
       "      <th>03:T3358</th>\n",
       "      <th>03:TC3550</th>\n",
       "      <th>03:TC3550A</th>\n",
       "      <th>...</th>\n",
       "      <th>03:N3723_1</th>\n",
       "      <th>03:N3727_1</th>\n",
       "      <th>03:E3851</th>\n",
       "      <th>03:T3632</th>\n",
       "      <th>03:T3633</th>\n",
       "      <th>03:T3634</th>\n",
       "      <th>03:FC3195</th>\n",
       "      <th>03:FC3197</th>\n",
       "      <th>03:FC3199</th>\n",
       "      <th>y</th>\n",
       "    </tr>\n",
       "  </thead>\n",
       "  <tbody>\n",
       "    <tr>\n",
       "      <th>0</th>\n",
       "      <td>780.512</td>\n",
       "      <td>81.377</td>\n",
       "      <td>3.404</td>\n",
       "      <td>3.408</td>\n",
       "      <td>3.401</td>\n",
       "      <td>0.299</td>\n",
       "      <td>41.446</td>\n",
       "      <td>134.946</td>\n",
       "      <td>125.628</td>\n",
       "      <td>0.0</td>\n",
       "      <td>...</td>\n",
       "      <td>1.0</td>\n",
       "      <td>1.0</td>\n",
       "      <td>27.521</td>\n",
       "      <td>36.051</td>\n",
       "      <td>36.309</td>\n",
       "      <td>22.818</td>\n",
       "      <td>320.155</td>\n",
       "      <td>297.566</td>\n",
       "      <td>325.710</td>\n",
       "      <td>943.431</td>\n",
       "    </tr>\n",
       "    <tr>\n",
       "      <th>1</th>\n",
       "      <td>780.051</td>\n",
       "      <td>81.377</td>\n",
       "      <td>3.401</td>\n",
       "      <td>3.402</td>\n",
       "      <td>3.400</td>\n",
       "      <td>0.298</td>\n",
       "      <td>41.676</td>\n",
       "      <td>135.032</td>\n",
       "      <td>125.583</td>\n",
       "      <td>0.0</td>\n",
       "      <td>...</td>\n",
       "      <td>1.0</td>\n",
       "      <td>1.0</td>\n",
       "      <td>27.212</td>\n",
       "      <td>36.092</td>\n",
       "      <td>36.348</td>\n",
       "      <td>22.865</td>\n",
       "      <td>320.718</td>\n",
       "      <td>297.288</td>\n",
       "      <td>325.425</td>\n",
       "      <td>943.431</td>\n",
       "    </tr>\n",
       "    <tr>\n",
       "      <th>2</th>\n",
       "      <td>779.416</td>\n",
       "      <td>81.329</td>\n",
       "      <td>3.397</td>\n",
       "      <td>3.403</td>\n",
       "      <td>3.399</td>\n",
       "      <td>0.300</td>\n",
       "      <td>41.762</td>\n",
       "      <td>134.732</td>\n",
       "      <td>125.600</td>\n",
       "      <td>0.0</td>\n",
       "      <td>...</td>\n",
       "      <td>1.0</td>\n",
       "      <td>1.0</td>\n",
       "      <td>27.832</td>\n",
       "      <td>35.906</td>\n",
       "      <td>36.276</td>\n",
       "      <td>22.869</td>\n",
       "      <td>320.184</td>\n",
       "      <td>297.656</td>\n",
       "      <td>325.233</td>\n",
       "      <td>943.073</td>\n",
       "    </tr>\n",
       "    <tr>\n",
       "      <th>3</th>\n",
       "      <td>780.344</td>\n",
       "      <td>81.250</td>\n",
       "      <td>3.398</td>\n",
       "      <td>3.404</td>\n",
       "      <td>3.398</td>\n",
       "      <td>0.300</td>\n",
       "      <td>41.909</td>\n",
       "      <td>134.521</td>\n",
       "      <td>125.612</td>\n",
       "      <td>0.0</td>\n",
       "      <td>...</td>\n",
       "      <td>1.0</td>\n",
       "      <td>1.0</td>\n",
       "      <td>27.571</td>\n",
       "      <td>35.977</td>\n",
       "      <td>36.262</td>\n",
       "      <td>22.878</td>\n",
       "      <td>319.879</td>\n",
       "      <td>297.386</td>\n",
       "      <td>326.211</td>\n",
       "      <td>943.476</td>\n",
       "    </tr>\n",
       "    <tr>\n",
       "      <th>4</th>\n",
       "      <td>780.231</td>\n",
       "      <td>81.377</td>\n",
       "      <td>3.403</td>\n",
       "      <td>3.405</td>\n",
       "      <td>3.399</td>\n",
       "      <td>0.298</td>\n",
       "      <td>41.983</td>\n",
       "      <td>134.352</td>\n",
       "      <td>125.703</td>\n",
       "      <td>0.0</td>\n",
       "      <td>...</td>\n",
       "      <td>1.0</td>\n",
       "      <td>1.0</td>\n",
       "      <td>27.194</td>\n",
       "      <td>36.000</td>\n",
       "      <td>36.246</td>\n",
       "      <td>22.850</td>\n",
       "      <td>320.310</td>\n",
       "      <td>297.659</td>\n",
       "      <td>325.206</td>\n",
       "      <td>943.175</td>\n",
       "    </tr>\n",
       "  </tbody>\n",
       "</table>\n",
       "<p>5 rows × 51 columns</p>\n",
       "</div>"
      ],
      "text/plain": [
       "   03:I3SROE  03:T3362  03:PI3061A  03:PI3061B  03:PI3061C  03:PD3066  \\\n",
       "0    780.512    81.377       3.404       3.408       3.401      0.299   \n",
       "1    780.051    81.377       3.401       3.402       3.400      0.298   \n",
       "2    779.416    81.329       3.397       3.403       3.399      0.300   \n",
       "3    780.344    81.250       3.398       3.404       3.398      0.300   \n",
       "4    780.231    81.377       3.403       3.405       3.399      0.298   \n",
       "\n",
       "   03:T3492  03:T3358  03:TC3550  03:TC3550A  ...  03:N3723_1  03:N3727_1  \\\n",
       "0    41.446   134.946    125.628         0.0  ...         1.0         1.0   \n",
       "1    41.676   135.032    125.583         0.0  ...         1.0         1.0   \n",
       "2    41.762   134.732    125.600         0.0  ...         1.0         1.0   \n",
       "3    41.909   134.521    125.612         0.0  ...         1.0         1.0   \n",
       "4    41.983   134.352    125.703         0.0  ...         1.0         1.0   \n",
       "\n",
       "   03:E3851  03:T3632  03:T3633  03:T3634  03:FC3195  03:FC3197  03:FC3199  \\\n",
       "0    27.521    36.051    36.309    22.818    320.155    297.566    325.710   \n",
       "1    27.212    36.092    36.348    22.865    320.718    297.288    325.425   \n",
       "2    27.832    35.906    36.276    22.869    320.184    297.656    325.233   \n",
       "3    27.571    35.977    36.262    22.878    319.879    297.386    326.211   \n",
       "4    27.194    36.000    36.246    22.850    320.310    297.659    325.206   \n",
       "\n",
       "         y  \n",
       "0  943.431  \n",
       "1  943.431  \n",
       "2  943.073  \n",
       "3  943.476  \n",
       "4  943.175  \n",
       "\n",
       "[5 rows x 51 columns]"
      ]
     },
     "execution_count": 9,
     "metadata": {},
     "output_type": "execute_result"
    }
   ],
   "source": [
    "dataset_train.head()"
   ]
  },
  {
   "cell_type": "code",
   "execution_count": 147,
   "metadata": {},
   "outputs": [
    {
     "data": {
      "text/plain": [
       "03:I3SROE       float64\n",
       "03:T3362        float64\n",
       "03:PI3061A      float64\n",
       "03:PI3061B      float64\n",
       "03:PI3061C      float64\n",
       "03:PD3066       float64\n",
       "03:T3492        float64\n",
       "03:T3358        float64\n",
       "03:TC3550       float64\n",
       "03:TC3550A      float64\n",
       "03:FV3762       float64\n",
       "03:FC3762       float64\n",
       "03:TC3730       float64\n",
       "03:TV3730A      float64\n",
       "03:TV3730B      float64\n",
       "03:TV3730C      float64\n",
       "03:T3731        float64\n",
       "03:P3649        float64\n",
       "03:P3065        float64\n",
       "03:LC3661       float64\n",
       "03:LI3661A      float64\n",
       "03:LI3661B      float64\n",
       "03:LI3661C      float64\n",
       "03:YV4978       float64\n",
       "03:FC3075.OP    float64\n",
       "03:FC3075       float64\n",
       "03:T3361        float64\n",
       "03:T3359        float64\n",
       "03:T3360        float64\n",
       "03:N3722_1      float64\n",
       "03:N3721_1      float64\n",
       "03:N3725_1      float64\n",
       "03:E3849        float64\n",
       "03:T3626        float64\n",
       "03:T3627        float64\n",
       "03:T3628        float64\n",
       "03:N3726_1      float64\n",
       "03:E3850        float64\n",
       "03:T3629        float64\n",
       "03:T3630        float64\n",
       "03:T3631        float64\n",
       "03:N3723_1      float64\n",
       "03:N3727_1      float64\n",
       "03:E3851        float64\n",
       "03:T3632        float64\n",
       "03:T3633        float64\n",
       "03:T3634        float64\n",
       "03:FC3195       float64\n",
       "03:FC3197       float64\n",
       "03:FC3199       float64\n",
       "Durchsatz       float64\n",
       "dtype: object"
      ]
     },
     "execution_count": 147,
     "metadata": {},
     "output_type": "execute_result"
    }
   ],
   "source": [
    "dataset_train.dtypes"
   ]
  },
  {
   "cell_type": "code",
   "execution_count": 10,
   "metadata": {},
   "outputs": [],
   "source": [
    "training_set = dataset_train[cols].values"
   ]
  },
  {
   "cell_type": "code",
   "execution_count": 11,
   "metadata": {},
   "outputs": [
    {
     "data": {
      "text/plain": [
       "array([[ 780.512,   81.377,    3.404, ...,  297.566,  325.71 ,  943.431],\n",
       "       [ 780.051,   81.377,    3.401, ...,  297.288,  325.425,  943.431],\n",
       "       [ 779.416,   81.329,    3.397, ...,  297.656,  325.233,  943.073],\n",
       "       ...,\n",
       "       [ 862.264,   82.583,    3.386, ...,  324.706,  357.074, 1038.749],\n",
       "       [ 863.231,   82.583,    3.386, ...,  324.673,  358.477, 1040.391],\n",
       "       [ 863.205,   82.583,    3.383, ...,  324.312,  357.478, 1038.243]])"
      ]
     },
     "execution_count": 11,
     "metadata": {},
     "output_type": "execute_result"
    }
   ],
   "source": [
    "training_set"
   ]
  },
  {
   "cell_type": "code",
   "execution_count": 12,
   "metadata": {},
   "outputs": [],
   "source": [
    "# Feature Scaling\n",
    "from sklearn.preprocessing import StandardScaler\n",
    "\n",
    "sc = StandardScaler()\n",
    "training_set_scaled = sc.fit_transform(training_set)"
   ]
  },
  {
   "cell_type": "code",
   "execution_count": 13,
   "metadata": {},
   "outputs": [
    {
     "data": {
      "text/plain": [
       "array([[-0.93211914, -0.89023779, -0.52050408, ..., -0.8190561 ,\n",
       "        -0.8349377 , -0.88388054],\n",
       "       [-0.93910847, -0.89023779, -0.5516945 , ..., -0.82992677,\n",
       "        -0.84473839, -0.88388054],\n",
       "       [-0.94873586, -0.91063668, -0.59328173, ..., -0.81553681,\n",
       "        -0.85134096, -0.88822279],\n",
       "       ...,\n",
       "       [ 0.30734245, -0.3777157 , -0.70764661, ...,  0.24220325,\n",
       "         0.24361977,  0.27224838],\n",
       "       [ 0.32200337, -0.3777157 , -0.70764661, ...,  0.24091285,\n",
       "         0.29186669,  0.29216449],\n",
       "       [ 0.32160918, -0.3777157 , -0.73883704, ...,  0.22679661,\n",
       "         0.25751268,  0.26611102]])"
      ]
     },
     "execution_count": 13,
     "metadata": {},
     "output_type": "execute_result"
    }
   ],
   "source": [
    "training_set_scaled"
   ]
  },
  {
   "cell_type": "code",
   "execution_count": 14,
   "metadata": {},
   "outputs": [
    {
     "data": {
      "text/plain": [
       "array([[-0.89023779, -0.52050408, -0.50170701, ..., -0.98936854,\n",
       "        -0.8190561 , -0.8349377 ],\n",
       "       [-0.89023779, -0.5516945 , -0.56410245, ..., -0.96922086,\n",
       "        -0.82992677, -0.84473839],\n",
       "       [-0.91063668, -0.59328173, -0.55370321, ..., -0.98833074,\n",
       "        -0.81553681, -0.85134096],\n",
       "       ...,\n",
       "       [-0.3777157 , -0.70764661, -0.68889333, ...,  0.32806806,\n",
       "         0.24220325,  0.24361977],\n",
       "       [-0.3777157 , -0.70764661, -0.68889333, ...,  0.33780194,\n",
       "         0.24091285,  0.29186669],\n",
       "       [-0.3777157 , -0.73883704, -0.72009104, ...,  0.30960234,\n",
       "         0.22679661,  0.25751268]])"
      ]
     },
     "execution_count": 14,
     "metadata": {},
     "output_type": "execute_result"
    }
   ],
   "source": [
    "trainX = training_set_scaled[:,1:50]\n",
    "trainX"
   ]
  },
  {
   "cell_type": "code",
   "execution_count": 15,
   "metadata": {},
   "outputs": [
    {
     "data": {
      "text/plain": [
       "array([[-0.88388054],\n",
       "       [-0.88388054],\n",
       "       [-0.88822279],\n",
       "       ...,\n",
       "       [ 0.27224838],\n",
       "       [ 0.29216449],\n",
       "       [ 0.26611102]])"
      ]
     },
     "execution_count": 15,
     "metadata": {},
     "output_type": "execute_result"
    }
   ],
   "source": [
    "trainY = training_set_scaled[:,50:51]\n",
    "trainY"
   ]
  },
  {
   "cell_type": "code",
   "execution_count": 16,
   "metadata": {},
   "outputs": [],
   "source": [
    "from sklearn.model_selection import train_test_split\n",
    "\n",
    "X_train, X_test, y_train, y_test = train_test_split(trainX, trainY, test_size=0.33, random_state=42)"
   ]
  },
  {
   "cell_type": "code",
   "execution_count": null,
   "metadata": {},
   "outputs": [],
   "source": []
  },
  {
   "cell_type": "code",
   "execution_count": 17,
   "metadata": {},
   "outputs": [],
   "source": [
    "X_train = np.reshape(X_train, (X_train.shape[0], 1, X_train.shape[1]))\n",
    "X_test = np.reshape(X_test, (X_test.shape[0], 1, X_test.shape[1]))\n",
    "y_train = np.reshape(y_train, (y_train.shape[0], 1, y_train.shape[1]))\n",
    "#y_test = np.reshape(y_test, (y_test.shape[0], 1, y_test.shape[1]))"
   ]
  },
  {
   "cell_type": "code",
   "execution_count": 18,
   "metadata": {},
   "outputs": [
    {
     "data": {
      "text/plain": [
       "(27015, 1, 49)"
      ]
     },
     "execution_count": 18,
     "metadata": {},
     "output_type": "execute_result"
    }
   ],
   "source": [
    "X_train.shape"
   ]
  },
  {
   "cell_type": "code",
   "execution_count": 157,
   "metadata": {},
   "outputs": [],
   "source": [
    "#X_train = X_train.reshape(1,384582, 49)\n",
    "#y_train = y_train.reshape(1, 384582, 1)\n",
    "#X_test = X_test.reshape(1,189422, 49)\n",
    "#y_test = y_test.reshape(1, 189422, 1)"
   ]
  },
  {
   "cell_type": "code",
   "execution_count": null,
   "metadata": {},
   "outputs": [],
   "source": []
  },
  {
   "cell_type": "code",
   "execution_count": 19,
   "metadata": {},
   "outputs": [],
   "source": [
    "import tensorflow as tf\n",
    "\n",
    "model = tf.keras.Sequential()\n",
    "model.add(tf.keras.layers.LSTM(50, input_shape=(1, 49)))\n",
    "model.add(tf.keras.layers.Dense(1))\n",
    "opt = tf.keras.optimizers.RMSprop(learning_rate=0.1)\n",
    "model.compile(loss='mae', optimizer=opt)"
   ]
  },
  {
   "cell_type": "code",
   "execution_count": 20,
   "metadata": {},
   "outputs": [
    {
     "data": {
      "text/plain": [
       "(27015, 1, 49)"
      ]
     },
     "execution_count": 20,
     "metadata": {},
     "output_type": "execute_result"
    }
   ],
   "source": [
    "X_train.shape"
   ]
  },
  {
   "cell_type": "code",
   "execution_count": 21,
   "metadata": {},
   "outputs": [
    {
     "data": {
      "text/plain": [
       "(13306, 1, 49)"
      ]
     },
     "execution_count": 21,
     "metadata": {},
     "output_type": "execute_result"
    }
   ],
   "source": [
    "X_test.shape"
   ]
  },
  {
   "cell_type": "code",
   "execution_count": 22,
   "metadata": {},
   "outputs": [
    {
     "data": {
      "text/plain": [
       "(27015, 1, 1)"
      ]
     },
     "execution_count": 22,
     "metadata": {},
     "output_type": "execute_result"
    }
   ],
   "source": [
    "y_train.shape"
   ]
  },
  {
   "cell_type": "code",
   "execution_count": 23,
   "metadata": {},
   "outputs": [
    {
     "data": {
      "text/plain": [
       "(13306, 1)"
      ]
     },
     "execution_count": 23,
     "metadata": {},
     "output_type": "execute_result"
    }
   ],
   "source": [
    "y_test.shape"
   ]
  },
  {
   "cell_type": "code",
   "execution_count": 24,
   "metadata": {},
   "outputs": [],
   "source": [
    "import matplotlib.pyplot as plt"
   ]
  },
  {
   "cell_type": "code",
   "execution_count": null,
   "metadata": {},
   "outputs": [],
   "source": []
  },
  {
   "cell_type": "code",
   "execution_count": 25,
   "metadata": {
    "scrolled": true
   },
   "outputs": [
    {
     "name": "stdout",
     "output_type": "stream",
     "text": [
      "Train on 27015 samples, validate on 13306 samples\n",
      "Epoch 1/50\n",
      "27015/27015 - 3s - loss: 0.2528 - val_loss: 0.2096\n",
      "Epoch 2/50\n",
      "27015/27015 - 1s - loss: 0.1658 - val_loss: 0.1946\n",
      "Epoch 3/50\n",
      "27015/27015 - 1s - loss: 0.1628 - val_loss: 0.2161\n",
      "Epoch 4/50\n",
      "27015/27015 - 1s - loss: 0.1581 - val_loss: 0.1481\n",
      "Epoch 5/50\n",
      "27015/27015 - 1s - loss: 0.1548 - val_loss: 0.1665\n",
      "Epoch 6/50\n",
      "27015/27015 - 1s - loss: 0.1494 - val_loss: 0.2171\n",
      "Epoch 7/50\n",
      "27015/27015 - 1s - loss: 0.1464 - val_loss: 0.1999\n",
      "Epoch 8/50\n",
      "27015/27015 - 1s - loss: 0.1466 - val_loss: 0.1533\n",
      "Epoch 9/50\n",
      "27015/27015 - 1s - loss: 0.1462 - val_loss: 0.1841\n",
      "Epoch 10/50\n",
      "27015/27015 - 1s - loss: 0.1465 - val_loss: 0.1671\n",
      "Epoch 11/50\n",
      "27015/27015 - 1s - loss: 0.1451 - val_loss: 0.1793\n",
      "Epoch 12/50\n",
      "27015/27015 - 1s - loss: 0.1452 - val_loss: 0.1725\n",
      "Epoch 13/50\n",
      "27015/27015 - 1s - loss: 0.1460 - val_loss: 0.1434\n",
      "Epoch 14/50\n",
      "27015/27015 - 1s - loss: 0.1448 - val_loss: 0.1309\n",
      "Epoch 15/50\n",
      "27015/27015 - 1s - loss: 0.1454 - val_loss: 0.1755\n",
      "Epoch 16/50\n",
      "27015/27015 - 1s - loss: 0.1448 - val_loss: 0.1285\n",
      "Epoch 17/50\n",
      "27015/27015 - 1s - loss: 0.1445 - val_loss: 0.1624\n",
      "Epoch 18/50\n",
      "27015/27015 - 1s - loss: 0.1454 - val_loss: 0.1330\n",
      "Epoch 19/50\n",
      "27015/27015 - 1s - loss: 0.1457 - val_loss: 0.1634\n",
      "Epoch 20/50\n",
      "27015/27015 - 1s - loss: 0.1452 - val_loss: 0.1882\n",
      "Epoch 21/50\n",
      "27015/27015 - 1s - loss: 0.1455 - val_loss: 0.1487\n",
      "Epoch 22/50\n",
      "27015/27015 - 1s - loss: 0.1459 - val_loss: 0.2387\n",
      "Epoch 23/50\n",
      "27015/27015 - 1s - loss: 0.1437 - val_loss: 0.1537\n",
      "Epoch 24/50\n",
      "27015/27015 - 1s - loss: 0.1426 - val_loss: 0.2061\n",
      "Epoch 25/50\n",
      "27015/27015 - 1s - loss: 0.1443 - val_loss: 0.1742\n",
      "Epoch 26/50\n",
      "27015/27015 - 1s - loss: 0.1441 - val_loss: 0.1820\n",
      "Epoch 27/50\n",
      "27015/27015 - 1s - loss: 0.1443 - val_loss: 0.1249\n",
      "Epoch 28/50\n",
      "27015/27015 - 1s - loss: 0.1436 - val_loss: 0.1530\n",
      "Epoch 29/50\n",
      "27015/27015 - 1s - loss: 0.1434 - val_loss: 0.1564\n",
      "Epoch 30/50\n",
      "27015/27015 - 1s - loss: 0.1405 - val_loss: 0.1738\n",
      "Epoch 31/50\n",
      "27015/27015 - 1s - loss: 0.1404 - val_loss: 0.1377\n",
      "Epoch 32/50\n",
      "27015/27015 - 1s - loss: 0.1410 - val_loss: 0.2465\n",
      "Epoch 33/50\n",
      "27015/27015 - 1s - loss: 0.1379 - val_loss: 0.1592\n",
      "Epoch 34/50\n",
      "27015/27015 - 1s - loss: 0.1368 - val_loss: 0.1483\n",
      "Epoch 35/50\n",
      "27015/27015 - 1s - loss: 0.1379 - val_loss: 0.1804\n",
      "Epoch 36/50\n",
      "27015/27015 - 1s - loss: 0.1383 - val_loss: 0.1287\n",
      "Epoch 37/50\n",
      "27015/27015 - 1s - loss: 0.1376 - val_loss: 0.2017\n",
      "Epoch 38/50\n",
      "27015/27015 - 1s - loss: 0.1384 - val_loss: 0.1562\n",
      "Epoch 39/50\n",
      "27015/27015 - 1s - loss: 0.1398 - val_loss: 0.1584\n",
      "Epoch 40/50\n",
      "27015/27015 - 1s - loss: 0.1427 - val_loss: 0.1653\n",
      "Epoch 41/50\n",
      "27015/27015 - 1s - loss: 0.1433 - val_loss: 0.1521\n",
      "Epoch 42/50\n",
      "27015/27015 - 1s - loss: 0.1432 - val_loss: 0.1134\n",
      "Epoch 43/50\n",
      "27015/27015 - 1s - loss: 0.1421 - val_loss: 0.1867\n",
      "Epoch 44/50\n",
      "27015/27015 - 1s - loss: 0.1439 - val_loss: 0.1479\n",
      "Epoch 45/50\n",
      "27015/27015 - 1s - loss: 0.1426 - val_loss: 0.1988\n",
      "Epoch 46/50\n",
      "27015/27015 - 1s - loss: 0.1425 - val_loss: 0.1873\n",
      "Epoch 47/50\n",
      "27015/27015 - 1s - loss: 0.1425 - val_loss: 0.1472\n",
      "Epoch 48/50\n",
      "27015/27015 - 1s - loss: 0.1405 - val_loss: 0.1615\n",
      "Epoch 49/50\n",
      "27015/27015 - 1s - loss: 0.1422 - val_loss: 0.1348\n",
      "Epoch 50/50\n",
      "27015/27015 - 1s - loss: 0.1416 - val_loss: 0.1546\n"
     ]
    },
    {
     "data": {
      "image/png": "[encoded data removed]",
      "text/plain": [
       "<Figure size 432x288 with 1 Axes>"
      ]
     },
     "metadata": {
      "needs_background": "light"
     },
     "output_type": "display_data"
    }
   ],
   "source": [
    "history = model.fit(X_train, y_train, epochs=50, batch_size=72, validation_data=(X_test, y_test), verbose=2, shuffle=False)\n",
    "# plot history\n",
    "import matplotlib.pyplot as plt\n",
    "plt.plot(history.history['loss'], label='train')\n",
    "plt.plot(history.history['val_loss'], label='test')\n",
    "plt.legend()\n",
    "plt.show()"
   ]
  },
  {
   "cell_type": "code",
   "execution_count": 26,
   "metadata": {},
   "outputs": [
    {
     "name": "stdout",
     "output_type": "stream",
     "text": [
      "[[-1.13978  ]\n",
      " [-0.4638672]\n",
      " [ 1.2841723]\n",
      " ...\n",
      " [ 0.6484722]\n",
      " [-1.1047769]\n",
      " [-1.1410458]]\n"
     ]
    }
   ],
   "source": [
    "yhat = model.predict(X_test, verbose=0)\n",
    "print(yhat)"
   ]
  },
  {
   "cell_type": "code",
   "execution_count": 30,
   "metadata": {},
   "outputs": [
    {
     "data": {
      "text/plain": [
       "array([[-1.13978  ],\n",
       "       [-0.4638672],\n",
       "       [ 1.2841723],\n",
       "       ...,\n",
       "       [ 0.6484722],\n",
       "       [-1.1047769],\n",
       "       [-1.1410458]], dtype=float32)"
      ]
     },
     "execution_count": 30,
     "metadata": {},
     "output_type": "execute_result"
    }
   ],
   "source": [
    "yhat.reshape(13306,1)"
   ]
  },
  {
   "cell_type": "code",
   "execution_count": 32,
   "metadata": {},
   "outputs": [
    {
     "data": {
      "text/plain": [
       "array([[-1.28396145],\n",
       "       [-0.37963425],\n",
       "       [ 1.2418912 ],\n",
       "       ...,\n",
       "       [ 0.53126696],\n",
       "       [-1.31765631],\n",
       "       [-1.29359202]])"
      ]
     },
     "execution_count": 32,
     "metadata": {},
     "output_type": "execute_result"
    }
   ],
   "source": [
    "y_test.reshape(13306,1)"
   ]
  },
  {
   "cell_type": "code",
   "execution_count": 33,
   "metadata": {},
   "outputs": [
    {
     "data": {
      "text/plain": [
       "(13306, 1)"
      ]
     },
     "execution_count": 33,
     "metadata": {},
     "output_type": "execute_result"
    }
   ],
   "source": [
    "yhat.shape"
   ]
  },
  {
   "cell_type": "code",
   "execution_count": 34,
   "metadata": {},
   "outputs": [
    {
     "data": {
      "text/plain": [
       "(13306, 1)"
      ]
     },
     "execution_count": 34,
     "metadata": {},
     "output_type": "execute_result"
    }
   ],
   "source": [
    "y_test.shape"
   ]
  },
  {
   "cell_type": "code",
   "execution_count": 36,
   "metadata": {},
   "outputs": [
    {
     "data": {
      "image/png": "[encoded data removed]",
      "text/plain": [
       "<Figure size 1440x720 with 1 Axes>"
      ]
     },
     "metadata": {
      "needs_background": "light"
     },
     "output_type": "display_data"
    }
   ],
   "source": [
    "plt.figure(figsize=(20,10))\n",
    "plt.plot(y_test[:144], label='test')\n",
    "plt.plot(yhat[:144], label='prediction')\n",
    "plt.legend()\n",
    "plt.show()"
   ]
  },
  {
   "cell_type": "code",
   "execution_count": null,
   "metadata": {},
   "outputs": [],
   "source": []
  },
  {
   "cell_type": "code",
   "execution_count": null,
   "metadata": {},
   "outputs": [],
   "source": []
  },
  {
   "cell_type": "code",
   "execution_count": null,
   "metadata": {},
   "outputs": [],
   "source": []
  },
  {
   "cell_type": "code",
   "execution_count": null,
   "metadata": {},
   "outputs": [],
   "source": []
  },
  {
   "cell_type": "code",
   "execution_count": null,
   "metadata": {},
   "outputs": [],
   "source": []
  },
  {
   "cell_type": "code",
   "execution_count": null,
   "metadata": {},
   "outputs": [],
   "source": []
  },
  {
   "cell_type": "code",
   "execution_count": null,
   "metadata": {},
   "outputs": [],
   "source": []
  },
  {
   "cell_type": "code",
   "execution_count": null,
   "metadata": {},
   "outputs": [],
   "source": []
  }
 ],
 "metadata": {
  "kernelspec": {
   "display_name": "Python 3",
   "language": "python",
   "name": "python3"
  },
  "language_info": {
   "codemirror_mode": {
    "name": "ipython",
    "version": 3
   },
   "file_extension": ".py",
   "mimetype": "text/x-python",
   "name": "python",
   "nbconvert_exporter": "python",
   "pygments_lexer": "ipython3",
   "version": "3.7.6"
  }
 },
 "nbformat": 4,
 "nbformat_minor": 4
}
