{
 "cells": [
  {
   "cell_type": "code",
   "execution_count": 1,
   "metadata": {},
   "outputs": [
    {
     "name": "stderr",
     "output_type": "stream",
     "text": [
      "Using TensorFlow backend.\n"
     ]
    }
   ],
   "source": [
    "# Import modules and packages\n",
    "import numpy as np\n",
    "import pandas as pd\n",
    "import matplotlib.pyplot as plt\n",
    "import datetime as dt\n",
    "from datetime import datetime\n",
    "\n",
    "from keras.callbacks import EarlyStopping, ReduceLROnPlateau, ModelCheckpoint, TensorBoard\n",
    "\n",
    "%matplotlib inline"
   ]
  },
  {
   "cell_type": "code",
   "execution_count": 3,
   "metadata": {},
   "outputs": [],
   "source": [
    "dataset_train = pd.read_csv('/Users/dennis/git/Data/pump_data.csv', sep=';', low_memory=False , decimal=',')"
   ]
  },
  {
   "cell_type": "code",
   "execution_count": 4,
   "metadata": {},
   "outputs": [
    {
     "data": {
      "text/html": [
       "<div>\n",
       "<style scoped>\n",
       "    .dataframe tbody tr th:only-of-type {\n",
       "        vertical-align: middle;\n",
       "    }\n",
       "\n",
       "    .dataframe tbody tr th {\n",
       "        vertical-align: top;\n",
       "    }\n",
       "\n",
       "    .dataframe thead th {\n",
       "        text-align: right;\n",
       "    }\n",
       "</style>\n",
       "<table border=\"1\" class=\"dataframe\">\n",
       "  <thead>\n",
       "    <tr style=\"text-align: right;\">\n",
       "      <th></th>\n",
       "      <th>Unnamed: 0</th>\n",
       "      <th>Date</th>\n",
       "      <th>03:I3SROE</th>\n",
       "      <th>03:T3362</th>\n",
       "      <th>03:PI3061A</th>\n",
       "      <th>03:PI3061B</th>\n",
       "      <th>03:PI3061C</th>\n",
       "      <th>03:PD3066</th>\n",
       "      <th>03:T3492</th>\n",
       "      <th>03:T3358</th>\n",
       "      <th>...</th>\n",
       "      <th>03:E3851</th>\n",
       "      <th>03:T3632</th>\n",
       "      <th>03:T3633</th>\n",
       "      <th>03:T3634</th>\n",
       "      <th>03:FC3195</th>\n",
       "      <th>03:FV3195</th>\n",
       "      <th>03:FC3197</th>\n",
       "      <th>03:FV3197</th>\n",
       "      <th>03:FC3199</th>\n",
       "      <th>03:FV3199</th>\n",
       "    </tr>\n",
       "  </thead>\n",
       "  <tbody>\n",
       "    <tr>\n",
       "      <th>0</th>\n",
       "      <td>0</td>\n",
       "      <td>01.01.19 00:00</td>\n",
       "      <td>890,187</td>\n",
       "      <td>77,923</td>\n",
       "      <td>3,025</td>\n",
       "      <td>3,043</td>\n",
       "      <td>3,055</td>\n",
       "      <td>No Data</td>\n",
       "      <td>40,456</td>\n",
       "      <td>97,602</td>\n",
       "      <td>...</td>\n",
       "      <td>0,156</td>\n",
       "      <td>16,62</td>\n",
       "      <td>16,661</td>\n",
       "      <td>13,997</td>\n",
       "      <td>358,322</td>\n",
       "      <td>100</td>\n",
       "      <td>362,52</td>\n",
       "      <td>100</td>\n",
       "      <td>392,51</td>\n",
       "      <td>100</td>\n",
       "    </tr>\n",
       "    <tr>\n",
       "      <th>1</th>\n",
       "      <td>1</td>\n",
       "      <td>01.01.19 00:10</td>\n",
       "      <td>890,262</td>\n",
       "      <td>77,893</td>\n",
       "      <td>3,024</td>\n",
       "      <td>3,043</td>\n",
       "      <td>3,053</td>\n",
       "      <td>No Data</td>\n",
       "      <td>40,415</td>\n",
       "      <td>97,178</td>\n",
       "      <td>...</td>\n",
       "      <td>0,157</td>\n",
       "      <td>16,675</td>\n",
       "      <td>16,676</td>\n",
       "      <td>13,985</td>\n",
       "      <td>358,897</td>\n",
       "      <td>100</td>\n",
       "      <td>362,505</td>\n",
       "      <td>100</td>\n",
       "      <td>393,009</td>\n",
       "      <td>100</td>\n",
       "    </tr>\n",
       "    <tr>\n",
       "      <th>2</th>\n",
       "      <td>2</td>\n",
       "      <td>01.01.19 00:20</td>\n",
       "      <td>890,337</td>\n",
       "      <td>77,863</td>\n",
       "      <td>3,024</td>\n",
       "      <td>3,043</td>\n",
       "      <td>3,051</td>\n",
       "      <td>No Data</td>\n",
       "      <td>40,375</td>\n",
       "      <td>97,215</td>\n",
       "      <td>...</td>\n",
       "      <td>0,158</td>\n",
       "      <td>16,711</td>\n",
       "      <td>16,726</td>\n",
       "      <td>14,02</td>\n",
       "      <td>358,984</td>\n",
       "      <td>100</td>\n",
       "      <td>362,305</td>\n",
       "      <td>100</td>\n",
       "      <td>392,767</td>\n",
       "      <td>100</td>\n",
       "    </tr>\n",
       "    <tr>\n",
       "      <th>3</th>\n",
       "      <td>3</td>\n",
       "      <td>01.01.19 00:30</td>\n",
       "      <td>890,294</td>\n",
       "      <td>77,833</td>\n",
       "      <td>3,023</td>\n",
       "      <td>3,043</td>\n",
       "      <td>3,051</td>\n",
       "      <td>No Data</td>\n",
       "      <td>40,41</td>\n",
       "      <td>97,602</td>\n",
       "      <td>...</td>\n",
       "      <td>0,159</td>\n",
       "      <td>16,716</td>\n",
       "      <td>16,784</td>\n",
       "      <td>14,035</td>\n",
       "      <td>362,205</td>\n",
       "      <td>100</td>\n",
       "      <td>361,171</td>\n",
       "      <td>100</td>\n",
       "      <td>391,512</td>\n",
       "      <td>100</td>\n",
       "    </tr>\n",
       "    <tr>\n",
       "      <th>4</th>\n",
       "      <td>4</td>\n",
       "      <td>01.01.19 00:40</td>\n",
       "      <td>890,239</td>\n",
       "      <td>77,823</td>\n",
       "      <td>3,023</td>\n",
       "      <td>3,043</td>\n",
       "      <td>3,052</td>\n",
       "      <td>No Data</td>\n",
       "      <td>40,41</td>\n",
       "      <td>97,438</td>\n",
       "      <td>...</td>\n",
       "      <td>0,16</td>\n",
       "      <td>16,75</td>\n",
       "      <td>16,815</td>\n",
       "      <td>14,065</td>\n",
       "      <td>361,954</td>\n",
       "      <td>100</td>\n",
       "      <td>360,852</td>\n",
       "      <td>100</td>\n",
       "      <td>390,736</td>\n",
       "      <td>100</td>\n",
       "    </tr>\n",
       "  </tbody>\n",
       "</table>\n",
       "<p>5 rows × 55 columns</p>\n",
       "</div>"
      ],
      "text/plain": [
       "   Unnamed: 0            Date 03:I3SROE 03:T3362 03:PI3061A 03:PI3061B  \\\n",
       "0           0  01.01.19 00:00   890,187   77,923      3,025      3,043   \n",
       "1           1  01.01.19 00:10   890,262   77,893      3,024      3,043   \n",
       "2           2  01.01.19 00:20   890,337   77,863      3,024      3,043   \n",
       "3           3  01.01.19 00:30   890,294   77,833      3,023      3,043   \n",
       "4           4  01.01.19 00:40   890,239   77,823      3,023      3,043   \n",
       "\n",
       "  03:PI3061C 03:PD3066 03:T3492 03:T3358  ... 03:E3851 03:T3632 03:T3633  \\\n",
       "0      3,055   No Data   40,456   97,602  ...    0,156    16,62   16,661   \n",
       "1      3,053   No Data   40,415   97,178  ...    0,157   16,675   16,676   \n",
       "2      3,051   No Data   40,375   97,215  ...    0,158   16,711   16,726   \n",
       "3      3,051   No Data    40,41   97,602  ...    0,159   16,716   16,784   \n",
       "4      3,052   No Data    40,41   97,438  ...     0,16    16,75   16,815   \n",
       "\n",
       "  03:T3634 03:FC3195 03:FV3195 03:FC3197 03:FV3197 03:FC3199 03:FV3199  \n",
       "0   13,997   358,322       100    362,52       100    392,51       100  \n",
       "1   13,985   358,897       100   362,505       100   393,009       100  \n",
       "2    14,02   358,984       100   362,305       100   392,767       100  \n",
       "3   14,035   362,205       100   361,171       100   391,512       100  \n",
       "4   14,065   361,954       100   360,852       100   390,736       100  \n",
       "\n",
       "[5 rows x 55 columns]"
      ]
     },
     "execution_count": 4,
     "metadata": {},
     "output_type": "execute_result"
    }
   ],
   "source": [
    "dataset_train.head()"
   ]
  },
  {
   "cell_type": "code",
   "execution_count": 5,
   "metadata": {},
   "outputs": [],
   "source": [
    "dataset_train = dataset_train.replace(to_replace='N_LAUF', value='0')\n",
    "dataset_train = dataset_train.replace(to_replace='LAUF', value='1')\n",
    "dataset_train = dataset_train.replace(to_replace='No Data', value='-1001')\n",
    "dataset_train = dataset_train.replace(to_replace='Over Range', value='-1002')\n",
    "dataset_train = dataset_train.replace(to_replace='I/O Timeout', value='-1003')\n",
    "dataset_train = dataset_train.replace(to_replace='Calc Failed', value='-1004')\n",
    "dataset_train = dataset_train.replace(to_replace='Error', value='-1005')\n",
    "dataset_train = dataset_train.replace(to_replace='Configure', value='-1006')\n",
    "dataset_train = dataset_train.replace(to_replace='Scan Off', value='-1007')\n",
    "dataset_train = dataset_train.replace(to_replace='Comm Fail', value='-1008')\n",
    "dataset_train = dataset_train.replace(to_replace='Shutdown', value='-1009')\n",
    "dataset_train = dataset_train.replace(to_replace='NaN', value='-1010')\n",
    "dataset_train = dataset_train.replace(to_replace='Bad Input', value='-1011')\n",
    "dataset_train = dataset_train.replace(to_replace='Bad', value='-1012')"
   ]
  },
  {
   "cell_type": "code",
   "execution_count": 6,
   "metadata": {},
   "outputs": [],
   "source": [
    "dataset_train = dataset_train.drop(['Unnamed: 0'], axis = 1)\n",
    "dataset_train = dataset_train.drop(['03:FV3195'], axis = 1)\n",
    "dataset_train = dataset_train.drop(['03:FV3197'], axis = 1)\n",
    "dataset_train = dataset_train.drop(['03:FV3199'], axis = 1)"
   ]
  },
  {
   "cell_type": "code",
   "execution_count": 7,
   "metadata": {},
   "outputs": [],
   "source": [
    "dataset_train = dataset_train[1:].replace(',','.', regex=True)"
   ]
  },
  {
   "cell_type": "code",
   "execution_count": 8,
   "metadata": {},
   "outputs": [
    {
     "data": {
      "text/plain": [
       "Date            object\n",
       "03:I3SROE       object\n",
       "03:T3362        object\n",
       "03:PI3061A      object\n",
       "03:PI3061B      object\n",
       "03:PI3061C      object\n",
       "03:PD3066       object\n",
       "03:T3492        object\n",
       "03:T3358        object\n",
       "03:TC3550       object\n",
       "03:TC3550A      object\n",
       "03:FV3762       object\n",
       "03:FC3762       object\n",
       "03:TC3730       object\n",
       "03:TV3730A      object\n",
       "03:TV3730B      object\n",
       "03:TV3730C      object\n",
       "03:T3731        object\n",
       "03:P3649        object\n",
       "03:P3065        object\n",
       "03:LC3661       object\n",
       "03:LI3661A      object\n",
       "03:LI3661B      object\n",
       "03:LI3661C      object\n",
       "03:YV4978       object\n",
       "03:FC3075.OP    object\n",
       "03:FC3075       object\n",
       "03:T3361        object\n",
       "03:T3359        object\n",
       "03:T3360        object\n",
       "03:N3722_1      object\n",
       "03:N3721_1      object\n",
       "03:N3725_1      object\n",
       "03:E3849        object\n",
       "03:T3626        object\n",
       "03:T3627        object\n",
       "03:T3628        object\n",
       "03:N3726_1      object\n",
       "03:E3850        object\n",
       "03:T3629        object\n",
       "03:T3630        object\n",
       "03:T3631        object\n",
       "03:N3723_1      object\n",
       "03:N3727_1      object\n",
       "03:E3851        object\n",
       "03:T3632        object\n",
       "03:T3633        object\n",
       "03:T3634        object\n",
       "03:FC3195       object\n",
       "03:FC3197       object\n",
       "03:FC3199       object\n",
       "dtype: object"
      ]
     },
     "execution_count": 8,
     "metadata": {},
     "output_type": "execute_result"
    }
   ],
   "source": [
    "dataset_train.dtypes"
   ]
  },
  {
   "cell_type": "code",
   "execution_count": 9,
   "metadata": {},
   "outputs": [],
   "source": [
    "for column in dataset_train[1:]:\n",
    "    dataset_train[column] = pd.to_numeric(dataset_train[column], errors='coerce')"
   ]
  },
  {
   "cell_type": "code",
   "execution_count": 10,
   "metadata": {},
   "outputs": [
    {
     "data": {
      "text/plain": [
       "Date            float64\n",
       "03:I3SROE       float64\n",
       "03:T3362        float64\n",
       "03:PI3061A      float64\n",
       "03:PI3061B      float64\n",
       "03:PI3061C      float64\n",
       "03:PD3066       float64\n",
       "03:T3492        float64\n",
       "03:T3358        float64\n",
       "03:TC3550       float64\n",
       "03:TC3550A      float64\n",
       "03:FV3762       float64\n",
       "03:FC3762       float64\n",
       "03:TC3730       float64\n",
       "03:TV3730A      float64\n",
       "03:TV3730B      float64\n",
       "03:TV3730C      float64\n",
       "03:T3731        float64\n",
       "03:P3649        float64\n",
       "03:P3065        float64\n",
       "03:LC3661       float64\n",
       "03:LI3661A      float64\n",
       "03:LI3661B      float64\n",
       "03:LI3661C      float64\n",
       "03:YV4978       float64\n",
       "03:FC3075.OP    float64\n",
       "03:FC3075       float64\n",
       "03:T3361        float64\n",
       "03:T3359        float64\n",
       "03:T3360        float64\n",
       "03:N3722_1      float64\n",
       "03:N3721_1      float64\n",
       "03:N3725_1      float64\n",
       "03:E3849        float64\n",
       "03:T3626        float64\n",
       "03:T3627        float64\n",
       "03:T3628        float64\n",
       "03:N3726_1      float64\n",
       "03:E3850        float64\n",
       "03:T3629        float64\n",
       "03:T3630        float64\n",
       "03:T3631        float64\n",
       "03:N3723_1      float64\n",
       "03:N3727_1      float64\n",
       "03:E3851        float64\n",
       "03:T3632        float64\n",
       "03:T3633        float64\n",
       "03:T3634        float64\n",
       "03:FC3195       float64\n",
       "03:FC3197       float64\n",
       "03:FC3199       float64\n",
       "dtype: object"
      ]
     },
     "execution_count": 10,
     "metadata": {},
     "output_type": "execute_result"
    }
   ],
   "source": [
    "dataset_train.dtypes"
   ]
  },
  {
   "cell_type": "code",
   "execution_count": 11,
   "metadata": {},
   "outputs": [
    {
     "data": {
      "text/plain": [
       "1         1114.411\n",
       "2         1114.056\n",
       "3         1114.888\n",
       "4         1113.542\n",
       "5         1113.840\n",
       "            ...   \n",
       "574000     932.979\n",
       "574001     933.390\n",
       "574002     933.553\n",
       "574003     932.625\n",
       "574004     944.560\n",
       "Name: Durchsatz, Length: 574004, dtype: float64"
      ]
     },
     "execution_count": 11,
     "metadata": {},
     "output_type": "execute_result"
    }
   ],
   "source": [
    "dataset_train['Durchsatz'] = dataset_train['03:FC3195'] + dataset_train['03:FC3197'] + dataset_train['03:FC3199']\n",
    "dataset_train['Durchsatz']"
   ]
  },
  {
   "cell_type": "code",
   "execution_count": 12,
   "metadata": {},
   "outputs": [
    {
     "data": {
      "text/plain": [
       "['03:I3SROE',\n",
       " '03:T3362',\n",
       " '03:PI3061A',\n",
       " '03:PI3061B',\n",
       " '03:PI3061C',\n",
       " '03:PD3066',\n",
       " '03:T3492',\n",
       " '03:T3358',\n",
       " '03:TC3550',\n",
       " '03:TC3550A',\n",
       " '03:FV3762',\n",
       " '03:FC3762',\n",
       " '03:TC3730',\n",
       " '03:TV3730A',\n",
       " '03:TV3730B',\n",
       " '03:TV3730C',\n",
       " '03:T3731',\n",
       " '03:P3649',\n",
       " '03:P3065',\n",
       " '03:LC3661',\n",
       " '03:LI3661A',\n",
       " '03:LI3661B',\n",
       " '03:LI3661C',\n",
       " '03:YV4978',\n",
       " '03:FC3075.OP',\n",
       " '03:FC3075',\n",
       " '03:T3361',\n",
       " '03:T3359',\n",
       " '03:T3360',\n",
       " '03:N3722_1',\n",
       " '03:N3721_1',\n",
       " '03:N3725_1',\n",
       " '03:E3849',\n",
       " '03:T3626',\n",
       " '03:T3627',\n",
       " '03:T3628',\n",
       " '03:N3726_1',\n",
       " '03:E3850',\n",
       " '03:T3629',\n",
       " '03:T3630',\n",
       " '03:T3631',\n",
       " '03:N3723_1',\n",
       " '03:N3727_1',\n",
       " '03:E3851',\n",
       " '03:T3632',\n",
       " '03:T3633',\n",
       " '03:T3634',\n",
       " '03:FC3195',\n",
       " '03:FC3197',\n",
       " '03:FC3199',\n",
       " 'Durchsatz']"
      ]
     },
     "execution_count": 12,
     "metadata": {},
     "output_type": "execute_result"
    }
   ],
   "source": [
    "# Select features (columns) to be involved intro training and predictions\n",
    "cols = list(dataset_train)[1:]\n",
    "\n",
    "cols"
   ]
  },
  {
   "cell_type": "code",
   "execution_count": null,
   "metadata": {},
   "outputs": [],
   "source": []
  },
  {
   "cell_type": "code",
   "execution_count": 93,
   "metadata": {},
   "outputs": [
    {
     "data": {
      "text/plain": [
       "Date            float64\n",
       "03:I3SROE       float64\n",
       "03:T3362        float64\n",
       "03:PI3061A      float64\n",
       "03:PI3061B      float64\n",
       "03:PI3061C      float64\n",
       "03:PD3066       float64\n",
       "03:T3492        float64\n",
       "03:T3358        float64\n",
       "03:TC3550       float64\n",
       "03:TC3550A      float64\n",
       "03:FV3762       float64\n",
       "03:FC3762       float64\n",
       "03:TC3730       float64\n",
       "03:TV3730A      float64\n",
       "03:TV3730B      float64\n",
       "03:TV3730C      float64\n",
       "03:T3731        float64\n",
       "03:P3649        float64\n",
       "03:P3065        float64\n",
       "03:LC3661       float64\n",
       "03:LI3661A      float64\n",
       "03:LI3661B      float64\n",
       "03:LI3661C      float64\n",
       "03:YV4978       float64\n",
       "03:FC3075.OP    float64\n",
       "03:FC3075       float64\n",
       "03:T3361        float64\n",
       "03:T3359        float64\n",
       "03:T3360        float64\n",
       "03:N3722_1      float64\n",
       "03:N3721_1      float64\n",
       "03:N3725_1      float64\n",
       "03:E3849        float64\n",
       "03:T3626        float64\n",
       "03:T3627        float64\n",
       "03:T3628        float64\n",
       "03:N3726_1      float64\n",
       "03:E3850        float64\n",
       "03:T3629        float64\n",
       "03:T3630        float64\n",
       "03:T3631        float64\n",
       "03:N3723_1      float64\n",
       "03:N3727_1      float64\n",
       "03:E3851        float64\n",
       "03:T3632        float64\n",
       "03:T3633        float64\n",
       "03:T3634        float64\n",
       "03:FC3195       float64\n",
       "03:FC3197       float64\n",
       "03:FC3199       float64\n",
       "Durchsatz       float64\n",
       "dtype: object"
      ]
     },
     "execution_count": 93,
     "metadata": {},
     "output_type": "execute_result"
    }
   ],
   "source": [
    "dataset_train.dtypes"
   ]
  },
  {
   "cell_type": "code",
   "execution_count": 13,
   "metadata": {},
   "outputs": [],
   "source": [
    "training_set = dataset_train[cols].values"
   ]
  },
  {
   "cell_type": "code",
   "execution_count": 19,
   "metadata": {},
   "outputs": [
    {
     "data": {
      "text/plain": [
       "array([[ 890.262,   77.893,    3.024, ...,  362.505,  393.009, 1114.411],\n",
       "       [ 890.337,   77.863,    3.024, ...,  362.305,  392.767, 1114.056],\n",
       "       [ 890.294,   77.833,    3.023, ...,  361.171,  391.512, 1114.888],\n",
       "       ...,\n",
       "       [ 750.08 ,   73.618,    2.696, ...,  300.264,  333.121,  933.553],\n",
       "       [ 751.267,   73.667,    2.699, ...,  299.913,  332.373,  932.625],\n",
       "       [ 755.64 ,   73.563,    2.701, ...,  305.107,  338.502,  944.56 ]])"
      ]
     },
     "execution_count": 19,
     "metadata": {},
     "output_type": "execute_result"
    }
   ],
   "source": [
    "training_set"
   ]
  },
  {
   "cell_type": "code",
   "execution_count": 23,
   "metadata": {},
   "outputs": [
    {
     "name": "stderr",
     "output_type": "stream",
     "text": [
      "/Library/Frameworks/Python.framework/Versions/3.7/lib/python3.7/site-packages/sklearn/utils/extmath.py:765: RuntimeWarning: invalid value encountered in true_divide\n",
      "  updated_mean = (last_sum + new_sum) / updated_sample_count\n",
      "/Library/Frameworks/Python.framework/Versions/3.7/lib/python3.7/site-packages/sklearn/utils/extmath.py:706: RuntimeWarning: Degrees of freedom <= 0 for slice.\n",
      "  result = op(x, *args, **kwargs)\n"
     ]
    }
   ],
   "source": [
    "# Feature Scaling\n",
    "from sklearn.preprocessing import StandardScaler\n",
    "\n",
    "sc = StandardScaler()\n",
    "training_set_scaled = sc.fit_transform(training_set)"
   ]
  },
  {
   "cell_type": "code",
   "execution_count": 24,
   "metadata": {},
   "outputs": [
    {
     "data": {
      "text/plain": [
       "array([[ 0.15041391,  0.03238712,  0.08155985, ...,  0.24313427,\n",
       "         0.23257248,  0.17721778],\n",
       "       [ 0.15087862,  0.03106443,  0.08155985, ...,  0.23974709,\n",
       "         0.23034998,  0.17601331],\n",
       "       [ 0.15061219,  0.02974175,  0.0815471 , ...,  0.22054178,\n",
       "         0.21882418,  0.17883617],\n",
       "       ...,\n",
       "       [-0.71817797, -0.15609514,  0.07737748, ..., -0.81097315,\n",
       "        -0.31743323, -0.43640635],\n",
       "       [-0.71082311, -0.15393476,  0.07741573, ..., -0.81691765,\n",
       "        -0.32430279, -0.43955491],\n",
       "       [-0.68372725, -0.15852006,  0.07744124, ..., -0.72895258,\n",
       "        -0.26801464, -0.39906125]])"
      ]
     },
     "execution_count": 24,
     "metadata": {},
     "output_type": "execute_result"
    }
   ],
   "source": [
    "training_set_scaled"
   ]
  },
  {
   "cell_type": "code",
   "execution_count": 30,
   "metadata": {},
   "outputs": [
    {
     "data": {
      "text/plain": [
       "array([[ 0.03238712,  0.08155985,  0.08168098, ...,  0.08276647,\n",
       "         0.24313427,  0.23257248],\n",
       "       [ 0.03106443,  0.08155985,  0.08168098, ...,  0.08334011,\n",
       "         0.23974709,  0.23034998],\n",
       "       [ 0.02974175,  0.0815471 ,  0.08168098, ...,  0.10457793,\n",
       "         0.22054178,  0.21882418],\n",
       "       ...,\n",
       "       [-0.15609514,  0.07737748,  0.07726913, ..., -0.30446599,\n",
       "        -0.81097315, -0.31743323],\n",
       "       [-0.15393476,  0.07741573,  0.07728189, ..., -0.30333849,\n",
       "        -0.81691765, -0.32430279],\n",
       "       [-0.15852006,  0.07744124,  0.07729464, ..., -0.29930324,\n",
       "        -0.72895258, -0.26801464]])"
      ]
     },
     "execution_count": 30,
     "metadata": {},
     "output_type": "execute_result"
    }
   ],
   "source": [
    "trainX = training_set_scaled[:,1:50]\n",
    "trainX"
   ]
  },
  {
   "cell_type": "code",
   "execution_count": 31,
   "metadata": {},
   "outputs": [
    {
     "data": {
      "text/plain": [
       "array([[ 0.17721778],\n",
       "       [ 0.17601331],\n",
       "       [ 0.17883617],\n",
       "       ...,\n",
       "       [-0.43640635],\n",
       "       [-0.43955491],\n",
       "       [-0.39906125]])"
      ]
     },
     "execution_count": 31,
     "metadata": {},
     "output_type": "execute_result"
    }
   ],
   "source": [
    "trainY = training_set_scaled[:,50:51]\n",
    "trainY"
   ]
  },
  {
   "cell_type": "code",
   "execution_count": 32,
   "metadata": {},
   "outputs": [
    {
     "data": {
      "text/plain": [
       "(574004, 49)"
      ]
     },
     "execution_count": 32,
     "metadata": {},
     "output_type": "execute_result"
    }
   ],
   "source": [
    "trainX.shape"
   ]
  },
  {
   "cell_type": "code",
   "execution_count": 33,
   "metadata": {},
   "outputs": [
    {
     "data": {
      "text/plain": [
       "(574004, 1)"
      ]
     },
     "execution_count": 33,
     "metadata": {},
     "output_type": "execute_result"
    }
   ],
   "source": [
    "trainY.shape"
   ]
  },
  {
   "cell_type": "code",
   "execution_count": null,
   "metadata": {},
   "outputs": [],
   "source": []
  },
  {
   "cell_type": "code",
   "execution_count": null,
   "metadata": {},
   "outputs": [],
   "source": [
    "\n"
   ]
  },
  {
   "cell_type": "code",
   "execution_count": null,
   "metadata": {},
   "outputs": [],
   "source": []
  },
  {
   "cell_type": "code",
   "execution_count": null,
   "metadata": {
    "scrolled": true
   },
   "outputs": [],
   "source": []
  },
  {
   "cell_type": "code",
   "execution_count": null,
   "metadata": {},
   "outputs": [],
   "source": []
  },
  {
   "cell_type": "code",
   "execution_count": null,
   "metadata": {},
   "outputs": [],
   "source": []
  },
  {
   "cell_type": "code",
   "execution_count": null,
   "metadata": {},
   "outputs": [],
   "source": []
  },
  {
   "cell_type": "code",
   "execution_count": null,
   "metadata": {},
   "outputs": [],
   "source": []
  },
  {
   "cell_type": "code",
   "execution_count": null,
   "metadata": {},
   "outputs": [],
   "source": []
  },
  {
   "cell_type": "code",
   "execution_count": null,
   "metadata": {},
   "outputs": [],
   "source": []
  },
  {
   "cell_type": "code",
   "execution_count": null,
   "metadata": {},
   "outputs": [],
   "source": []
  },
  {
   "cell_type": "code",
   "execution_count": null,
   "metadata": {},
   "outputs": [],
   "source": []
  },
  {
   "cell_type": "code",
   "execution_count": null,
   "metadata": {},
   "outputs": [],
   "source": []
  },
  {
   "cell_type": "code",
   "execution_count": null,
   "metadata": {},
   "outputs": [],
   "source": []
  }
 ],
 "metadata": {
  "kernelspec": {
   "display_name": "Python 3",
   "language": "python",
   "name": "python3"
  },
  "language_info": {
   "codemirror_mode": {
    "name": "ipython",
    "version": 3
   },
   "file_extension": ".py",
   "mimetype": "text/x-python",
   "name": "python",
   "nbconvert_exporter": "python",
   "pygments_lexer": "ipython3",
   "version": "3.7.6"
  }
 },
 "nbformat": 4,
 "nbformat_minor": 4
}
